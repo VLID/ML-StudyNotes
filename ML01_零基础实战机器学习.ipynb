{
  "nbformat": 4,
  "nbformat_minor": 0,
  "metadata": {
    "colab": {
      "name": "ML01-零基础实战机器学习.ipynb",
      "provenance": [],
      "collapsed_sections": [],
      "authorship_tag": "ABX9TyOKPo+7w4TcNUQIll+/XQHq",
      "include_colab_link": true
    },
    "kernelspec": {
      "name": "python3",
      "display_name": "Python 3"
    },
    "language_info": {
      "name": "python"
    }
  },
  "cells": [
    {
      "cell_type": "markdown",
      "metadata": {
        "id": "view-in-github",
        "colab_type": "text"
      },
      "source": [
        "<a href=\"https://colab.research.google.com/github/VLID/ML-StudyNotes/blob/main/ML01_%E9%9B%B6%E5%9F%BA%E7%A1%80%E5%AE%9E%E6%88%98%E6%9C%BA%E5%99%A8%E5%AD%A6%E4%B9%A0.ipynb\" target=\"_parent\"><img src=\"https://colab.research.google.com/assets/colab-badge.svg\" alt=\"Open In Colab\"/></a>"
      ]
    },
    {
      "cell_type": "markdown",
      "metadata": {
        "id": "GoujOWc8wo2N"
      },
      "source": [
        "# 零基础实战机器学习"
      ]
    },
    {
      "cell_type": "markdown",
      "metadata": {
        "id": "lkdczz8ww3Kk"
      },
      "source": [
        "## 介绍练习"
      ]
    },
    {
      "cell_type": "code",
      "metadata": {
        "colab": {
          "base_uri": "https://localhost:8080/"
        },
        "id": "yqv6xSSzi2pr",
        "outputId": "b7565aae-bce5-4d52-f035-9e1e6ff7c205"
      },
      "source": [
        "import plotly.express as px\n",
        "import matplotlib\n",
        "from matplotlib import font_manager\n",
        "for font in font_manager.fontManager.ttflist:\n",
        "    # 查看字体名以及对应的字体文件名\n",
        "    print(font.name, '-', font.fname)\n",
        "# plt.rcParams['font.sans-serif']='Microsoft YaHei'\n",
        "print(matplotlib.matplotlib_fname())\n",
        "plt.rcParams['font.sans-serif']"
      ],
      "execution_count": 39,
      "outputs": [
        {
          "output_type": "stream",
          "name": "stdout",
          "text": [
            "STIXSizeThreeSym - /usr/local/lib/python3.7/dist-packages/matplotlib/mpl-data/fonts/ttf/STIXSizThreeSymBol.ttf\n",
            "STIXGeneral - /usr/local/lib/python3.7/dist-packages/matplotlib/mpl-data/fonts/ttf/STIXGeneral.ttf\n",
            "DejaVu Sans Mono - /usr/local/lib/python3.7/dist-packages/matplotlib/mpl-data/fonts/ttf/DejaVuSansMono-Oblique.ttf\n",
            "DejaVu Sans Mono - /usr/local/lib/python3.7/dist-packages/matplotlib/mpl-data/fonts/ttf/DejaVuSansMono.ttf\n",
            "STIXSizeThreeSym - /usr/local/lib/python3.7/dist-packages/matplotlib/mpl-data/fonts/ttf/STIXSizThreeSymReg.ttf\n",
            "cmmi10 - /usr/local/lib/python3.7/dist-packages/matplotlib/mpl-data/fonts/ttf/cmmi10.ttf\n",
            "STIXGeneral - /usr/local/lib/python3.7/dist-packages/matplotlib/mpl-data/fonts/ttf/STIXGeneralBolIta.ttf\n",
            "DejaVu Serif - /usr/local/lib/python3.7/dist-packages/matplotlib/mpl-data/fonts/ttf/DejaVuSerif-Italic.ttf\n",
            "DejaVu Serif - /usr/local/lib/python3.7/dist-packages/matplotlib/mpl-data/fonts/ttf/DejaVuSerif.ttf\n",
            "STIXGeneral - /usr/local/lib/python3.7/dist-packages/matplotlib/mpl-data/fonts/ttf/STIXGeneralItalic.ttf\n",
            "DejaVu Serif - /usr/local/lib/python3.7/dist-packages/matplotlib/mpl-data/fonts/ttf/DejaVuSerif-Bold.ttf\n",
            "DejaVu Sans Display - /usr/local/lib/python3.7/dist-packages/matplotlib/mpl-data/fonts/ttf/DejaVuSansDisplay.ttf\n",
            "STIXNonUnicode - /usr/local/lib/python3.7/dist-packages/matplotlib/mpl-data/fonts/ttf/STIXNonUniBol.ttf\n",
            "STIXNonUnicode - /usr/local/lib/python3.7/dist-packages/matplotlib/mpl-data/fonts/ttf/STIXNonUniIta.ttf\n",
            "STIXSizeTwoSym - /usr/local/lib/python3.7/dist-packages/matplotlib/mpl-data/fonts/ttf/STIXSizTwoSymReg.ttf\n",
            "DejaVu Serif - /usr/local/lib/python3.7/dist-packages/matplotlib/mpl-data/fonts/ttf/DejaVuSerif-BoldItalic.ttf\n",
            "STIXNonUnicode - /usr/local/lib/python3.7/dist-packages/matplotlib/mpl-data/fonts/ttf/STIXNonUni.ttf\n",
            "DejaVu Serif Display - /usr/local/lib/python3.7/dist-packages/matplotlib/mpl-data/fonts/ttf/DejaVuSerifDisplay.ttf\n",
            "STIXSizeOneSym - /usr/local/lib/python3.7/dist-packages/matplotlib/mpl-data/fonts/ttf/STIXSizOneSymBol.ttf\n",
            "STIXGeneral - /usr/local/lib/python3.7/dist-packages/matplotlib/mpl-data/fonts/ttf/STIXGeneralBol.ttf\n",
            "DejaVu Sans Mono - /usr/local/lib/python3.7/dist-packages/matplotlib/mpl-data/fonts/ttf/DejaVuSansMono-Bold.ttf\n",
            "DejaVu Sans - /usr/local/lib/python3.7/dist-packages/matplotlib/mpl-data/fonts/ttf/DejaVuSans-BoldOblique.ttf\n",
            "DejaVu Sans - /usr/local/lib/python3.7/dist-packages/matplotlib/mpl-data/fonts/ttf/DejaVuSans-Oblique.ttf\n",
            "STIXSizeFourSym - /usr/local/lib/python3.7/dist-packages/matplotlib/mpl-data/fonts/ttf/STIXSizFourSymReg.ttf\n",
            "STIXSizeFiveSym - /usr/local/lib/python3.7/dist-packages/matplotlib/mpl-data/fonts/ttf/STIXSizFiveSymReg.ttf\n",
            "DejaVu Sans Mono - /usr/local/lib/python3.7/dist-packages/matplotlib/mpl-data/fonts/ttf/DejaVuSansMono-BoldOblique.ttf\n",
            "cmss10 - /usr/local/lib/python3.7/dist-packages/matplotlib/mpl-data/fonts/ttf/cmss10.ttf\n",
            "DejaVu Sans - /usr/local/lib/python3.7/dist-packages/matplotlib/mpl-data/fonts/ttf/DejaVuSans.ttf\n",
            "DejaVu Sans - /usr/local/lib/python3.7/dist-packages/matplotlib/mpl-data/fonts/ttf/DejaVuSans-Bold.ttf\n",
            "STIXNonUnicode - /usr/local/lib/python3.7/dist-packages/matplotlib/mpl-data/fonts/ttf/STIXNonUniBolIta.ttf\n",
            "cmex10 - /usr/local/lib/python3.7/dist-packages/matplotlib/mpl-data/fonts/ttf/cmex10.ttf\n",
            "cmr10 - /usr/local/lib/python3.7/dist-packages/matplotlib/mpl-data/fonts/ttf/cmr10.ttf\n",
            "cmtt10 - /usr/local/lib/python3.7/dist-packages/matplotlib/mpl-data/fonts/ttf/cmtt10.ttf\n",
            "STIXSizeTwoSym - /usr/local/lib/python3.7/dist-packages/matplotlib/mpl-data/fonts/ttf/STIXSizTwoSymBol.ttf\n",
            "STIXSizeFourSym - /usr/local/lib/python3.7/dist-packages/matplotlib/mpl-data/fonts/ttf/STIXSizFourSymBol.ttf\n",
            "STIXSizeOneSym - /usr/local/lib/python3.7/dist-packages/matplotlib/mpl-data/fonts/ttf/STIXSizOneSymReg.ttf\n",
            "cmsy10 - /usr/local/lib/python3.7/dist-packages/matplotlib/mpl-data/fonts/ttf/cmsy10.ttf\n",
            "cmb10 - /usr/local/lib/python3.7/dist-packages/matplotlib/mpl-data/fonts/ttf/cmb10.ttf\n",
            "Liberation Sans Narrow - /usr/share/fonts/truetype/liberation/LiberationSansNarrow-BoldItalic.ttf\n",
            "Liberation Sans Narrow - /usr/share/fonts/truetype/liberation/LiberationSansNarrow-Bold.ttf\n",
            "Liberation Mono - /usr/share/fonts/truetype/liberation/LiberationMono-BoldItalic.ttf\n",
            "Liberation Sans - /usr/share/fonts/truetype/liberation/LiberationSans-BoldItalic.ttf\n",
            "Liberation Serif - /usr/share/fonts/truetype/liberation/LiberationSerif-Italic.ttf\n",
            "Liberation Sans Narrow - /usr/share/fonts/truetype/liberation/LiberationSansNarrow-Regular.ttf\n",
            "Liberation Mono - /usr/share/fonts/truetype/liberation/LiberationMono-Bold.ttf\n",
            "Liberation Mono - /usr/share/fonts/truetype/liberation/LiberationMono-Regular.ttf\n",
            "Liberation Sans - /usr/share/fonts/truetype/liberation/LiberationSans-Regular.ttf\n",
            "Liberation Serif - /usr/share/fonts/truetype/liberation/LiberationSerif-BoldItalic.ttf\n",
            "Humor Sans - /usr/share/fonts/truetype/humor-sans/Humor-Sans.ttf\n",
            "Liberation Sans - /usr/share/fonts/truetype/liberation/LiberationSans-Italic.ttf\n",
            "Liberation Sans - /usr/share/fonts/truetype/liberation/LiberationSans-Bold.ttf\n",
            "Liberation Mono - /usr/share/fonts/truetype/liberation/LiberationMono-Italic.ttf\n",
            "Liberation Serif - /usr/share/fonts/truetype/liberation/LiberationSerif-Bold.ttf\n",
            "Liberation Serif - /usr/share/fonts/truetype/liberation/LiberationSerif-Regular.ttf\n",
            "Liberation Sans Narrow - /usr/share/fonts/truetype/liberation/LiberationSansNarrow-Italic.ttf\n",
            "/usr/local/lib/python3.7/dist-packages/matplotlib/mpl-data/matplotlibrc\n"
          ]
        },
        {
          "output_type": "execute_result",
          "data": {
            "text/plain": [
              "['Microsoft YaHei']"
            ]
          },
          "metadata": {},
          "execution_count": 39
        }
      ]
    },
    {
      "cell_type": "code",
      "metadata": {
        "id": "S9lNYnbADZKK"
      },
      "source": [
        "plt.rcParams['font.sans-serif']='Microsoft YaHei'"
      ],
      "execution_count": 38,
      "outputs": []
    },
    {
      "cell_type": "code",
      "metadata": {
        "colab": {
          "base_uri": "https://localhost:8080/"
        },
        "id": "6Z3TIITuKTR9",
        "outputId": "2a697296-dbba-4e14-cd84-23768aab2710"
      },
      "source": [
        "!wget https://github.com/computational-class/ccbook/blob/master/data/msyh.ttf"
      ],
      "execution_count": 52,
      "outputs": [
        {
          "output_type": "stream",
          "name": "stdout",
          "text": [
            "--2021-09-07 17:21:27--  https://github.com/computational-class/ccbook/blob/master/data/msyh.ttf\n",
            "Resolving github.com (github.com)... 52.69.186.44\n",
            "Connecting to github.com (github.com)|52.69.186.44|:443... connected.\n",
            "HTTP request sent, awaiting response... 301 Moved Permanently\n",
            "Location: https://github.com/SocratesAcademy/ccbook/blob/master/data/msyh.ttf [following]\n",
            "--2021-09-07 17:21:28--  https://github.com/SocratesAcademy/ccbook/blob/master/data/msyh.ttf\n",
            "Reusing existing connection to github.com:443.\n",
            "HTTP request sent, awaiting response... 200 OK\n",
            "Length: unspecified [text/html]\n",
            "Saving to: ‘msyh.ttf’\n",
            "\n",
            "msyh.ttf                [ <=>                ] 127.31K  --.-KB/s    in 0.1s    \n",
            "\n",
            "2021-09-07 17:21:28 (1.11 MB/s) - ‘msyh.ttf’ saved [130363]\n",
            "\n"
          ]
        }
      ]
    },
    {
      "cell_type": "code",
      "metadata": {
        "id": "3Fy2hiMPAKi2"
      },
      "source": [
        "! mv /content/msyh.ttf /usr/local/lib/python3.7/dist-packages/matplotlib/mpl-data/fonts/ttf"
      ],
      "execution_count": 18,
      "outputs": []
    },
    {
      "cell_type": "code",
      "metadata": {
        "id": "3v9TZ81dKrnL"
      },
      "source": [
        "from matplotlib.font_manager import FontProperties\n",
        "import matplotlib.pyplot as plt \n",
        "\n",
        "myfont = FontProperties(fname=r'/content/msyh.ttf')"
      ],
      "execution_count": 53,
      "outputs": []
    },
    {
      "cell_type": "code",
      "metadata": {
        "colab": {
          "base_uri": "https://localhost:8080/"
        },
        "id": "7_9syPfqCI7U",
        "outputId": "45e644d6-6657-4d11-c333-f3f99db1d646"
      },
      "source": [
        "print(matplotlib.get_cachedir())"
      ],
      "execution_count": 6,
      "outputs": [
        {
          "output_type": "stream",
          "name": "stdout",
          "text": [
            "/root/.cache/matplotlib\n"
          ]
        }
      ]
    },
    {
      "cell_type": "code",
      "metadata": {
        "id": "BeWhLg1wCUyZ"
      },
      "source": [
        "! rm /usr/local/lib/python3.7/dist-packages/matplotlib/mpl-data/fonts/ttf/msyh.ttf"
      ],
      "execution_count": 17,
      "outputs": []
    },
    {
      "cell_type": "code",
      "metadata": {
        "colab": {
          "base_uri": "https://localhost:8080/"
        },
        "id": "HonB_efIDg6n",
        "outputId": "e6542893-171c-443d-adcb-6e7e62ee814d"
      },
      "source": [
        "! ls -la ~/.cache/matplotlib"
      ],
      "execution_count": 36,
      "outputs": [
        {
          "output_type": "stream",
          "name": "stdout",
          "text": [
            "ls: cannot access '/root/.cache/matplotlib': No such file or directory\n"
          ]
        }
      ]
    },
    {
      "cell_type": "code",
      "metadata": {
        "id": "yqJaroojOoBo"
      },
      "source": [
        "!rm -rf ~/.cache/matplotlib"
      ],
      "execution_count": 35,
      "outputs": []
    },
    {
      "cell_type": "code",
      "metadata": {
        "colab": {
          "base_uri": "https://localhost:8080/",
          "height": 542
        },
        "id": "PsX0r7ZbjB89",
        "outputId": "076a313a-0517-4430-80f7-392e255e0fe1"
      },
      "source": [
        "data = dict(\n",
        "    number=[59,32,18,9,2],\n",
        "    stage=[\"访问量\",\"下载量\",\"注册量\",\"搜索量\",\"付款数\"]\n",
        ")\n",
        "fig = px.funnel(data, x='number',y='stage')\n",
        "fig.show()"
      ],
      "execution_count": null,
      "outputs": [
        {
          "output_type": "display_data",
          "data": {
            "text/html": [
              "<html>\n",
              "<head><meta charset=\"utf-8\" /></head>\n",
              "<body>\n",
              "    <div>\n",
              "            <script src=\"https://cdnjs.cloudflare.com/ajax/libs/mathjax/2.7.5/MathJax.js?config=TeX-AMS-MML_SVG\"></script><script type=\"text/javascript\">if (window.MathJax) {MathJax.Hub.Config({SVG: {font: \"STIX-Web\"}});}</script>\n",
              "                <script type=\"text/javascript\">window.PlotlyConfig = {MathJaxConfig: 'local'};</script>\n",
              "        <script src=\"https://cdn.plot.ly/plotly-latest.min.js\"></script>    \n",
              "            <div id=\"81c48358-a753-415b-af56-28e62bea74c3\" class=\"plotly-graph-div\" style=\"height:525px; width:100%;\"></div>\n",
              "            <script type=\"text/javascript\">\n",
              "                \n",
              "                    window.PLOTLYENV=window.PLOTLYENV || {};\n",
              "                    \n",
              "                if (document.getElementById(\"81c48358-a753-415b-af56-28e62bea74c3\")) {\n",
              "                    Plotly.newPlot(\n",
              "                        '81c48358-a753-415b-af56-28e62bea74c3',\n",
              "                        [{\"hoverlabel\": {\"namelength\": 0}, \"hovertemplate\": \"number=%{x}<br>stage=%{y}\", \"legendgroup\": \"\", \"marker\": {\"color\": \"#636efa\"}, \"name\": \"\", \"orientation\": \"h\", \"showlegend\": false, \"type\": \"funnel\", \"x\": [59, 32, 18, 9, 2], \"xaxis\": \"x\", \"y\": [\"\\u8bbf\\u95ee\\u91cf\", \"\\u4e0b\\u8f7d\\u91cf\", \"\\u6ce8\\u518c\\u91cf\", \"\\u641c\\u7d22\\u91cf\", \"\\u4ed8\\u6b3e\\u6570\"], \"yaxis\": \"y\"}],\n",
              "                        {\"legend\": {\"tracegroupgap\": 0}, \"margin\": {\"t\": 60}, \"template\": {\"data\": {\"bar\": [{\"error_x\": {\"color\": \"#2a3f5f\"}, \"error_y\": {\"color\": \"#2a3f5f\"}, \"marker\": {\"line\": {\"color\": \"#E5ECF6\", \"width\": 0.5}}, \"type\": \"bar\"}], \"barpolar\": [{\"marker\": {\"line\": {\"color\": \"#E5ECF6\", \"width\": 0.5}}, \"type\": \"barpolar\"}], \"carpet\": [{\"aaxis\": {\"endlinecolor\": \"#2a3f5f\", \"gridcolor\": \"white\", \"linecolor\": \"white\", \"minorgridcolor\": \"white\", \"startlinecolor\": \"#2a3f5f\"}, \"baxis\": {\"endlinecolor\": \"#2a3f5f\", \"gridcolor\": \"white\", \"linecolor\": \"white\", \"minorgridcolor\": \"white\", \"startlinecolor\": \"#2a3f5f\"}, \"type\": \"carpet\"}], \"choropleth\": [{\"colorbar\": {\"outlinewidth\": 0, \"ticks\": \"\"}, \"type\": \"choropleth\"}], \"contour\": [{\"colorbar\": {\"outlinewidth\": 0, \"ticks\": \"\"}, \"colorscale\": [[0.0, \"#0d0887\"], [0.1111111111111111, \"#46039f\"], [0.2222222222222222, \"#7201a8\"], [0.3333333333333333, \"#9c179e\"], [0.4444444444444444, \"#bd3786\"], [0.5555555555555556, \"#d8576b\"], [0.6666666666666666, \"#ed7953\"], [0.7777777777777778, \"#fb9f3a\"], [0.8888888888888888, \"#fdca26\"], [1.0, \"#f0f921\"]], \"type\": \"contour\"}], \"contourcarpet\": [{\"colorbar\": {\"outlinewidth\": 0, \"ticks\": \"\"}, \"type\": \"contourcarpet\"}], \"heatmap\": [{\"colorbar\": {\"outlinewidth\": 0, \"ticks\": \"\"}, \"colorscale\": [[0.0, \"#0d0887\"], [0.1111111111111111, \"#46039f\"], [0.2222222222222222, \"#7201a8\"], [0.3333333333333333, \"#9c179e\"], [0.4444444444444444, \"#bd3786\"], [0.5555555555555556, \"#d8576b\"], [0.6666666666666666, \"#ed7953\"], [0.7777777777777778, \"#fb9f3a\"], [0.8888888888888888, \"#fdca26\"], [1.0, \"#f0f921\"]], \"type\": \"heatmap\"}], \"heatmapgl\": [{\"colorbar\": {\"outlinewidth\": 0, \"ticks\": \"\"}, \"colorscale\": [[0.0, \"#0d0887\"], [0.1111111111111111, \"#46039f\"], [0.2222222222222222, \"#7201a8\"], [0.3333333333333333, \"#9c179e\"], [0.4444444444444444, \"#bd3786\"], [0.5555555555555556, \"#d8576b\"], [0.6666666666666666, \"#ed7953\"], [0.7777777777777778, \"#fb9f3a\"], [0.8888888888888888, \"#fdca26\"], [1.0, \"#f0f921\"]], \"type\": \"heatmapgl\"}], \"histogram\": [{\"marker\": {\"colorbar\": {\"outlinewidth\": 0, \"ticks\": \"\"}}, \"type\": \"histogram\"}], \"histogram2d\": [{\"colorbar\": {\"outlinewidth\": 0, \"ticks\": \"\"}, \"colorscale\": [[0.0, \"#0d0887\"], [0.1111111111111111, \"#46039f\"], [0.2222222222222222, \"#7201a8\"], [0.3333333333333333, \"#9c179e\"], [0.4444444444444444, \"#bd3786\"], [0.5555555555555556, \"#d8576b\"], [0.6666666666666666, \"#ed7953\"], [0.7777777777777778, \"#fb9f3a\"], [0.8888888888888888, \"#fdca26\"], [1.0, \"#f0f921\"]], \"type\": \"histogram2d\"}], \"histogram2dcontour\": [{\"colorbar\": {\"outlinewidth\": 0, \"ticks\": \"\"}, \"colorscale\": [[0.0, \"#0d0887\"], [0.1111111111111111, \"#46039f\"], [0.2222222222222222, \"#7201a8\"], [0.3333333333333333, \"#9c179e\"], [0.4444444444444444, \"#bd3786\"], [0.5555555555555556, \"#d8576b\"], [0.6666666666666666, \"#ed7953\"], [0.7777777777777778, \"#fb9f3a\"], [0.8888888888888888, \"#fdca26\"], [1.0, \"#f0f921\"]], \"type\": \"histogram2dcontour\"}], \"mesh3d\": [{\"colorbar\": {\"outlinewidth\": 0, \"ticks\": \"\"}, \"type\": \"mesh3d\"}], \"parcoords\": [{\"line\": {\"colorbar\": {\"outlinewidth\": 0, \"ticks\": \"\"}}, \"type\": \"parcoords\"}], \"pie\": [{\"automargin\": true, \"type\": \"pie\"}], \"scatter\": [{\"marker\": {\"colorbar\": {\"outlinewidth\": 0, \"ticks\": \"\"}}, \"type\": \"scatter\"}], \"scatter3d\": [{\"line\": {\"colorbar\": {\"outlinewidth\": 0, \"ticks\": \"\"}}, \"marker\": {\"colorbar\": {\"outlinewidth\": 0, \"ticks\": \"\"}}, \"type\": \"scatter3d\"}], \"scattercarpet\": [{\"marker\": {\"colorbar\": {\"outlinewidth\": 0, \"ticks\": \"\"}}, \"type\": \"scattercarpet\"}], \"scattergeo\": [{\"marker\": {\"colorbar\": {\"outlinewidth\": 0, \"ticks\": \"\"}}, \"type\": \"scattergeo\"}], \"scattergl\": [{\"marker\": {\"colorbar\": {\"outlinewidth\": 0, \"ticks\": \"\"}}, \"type\": \"scattergl\"}], \"scattermapbox\": [{\"marker\": {\"colorbar\": {\"outlinewidth\": 0, \"ticks\": \"\"}}, \"type\": \"scattermapbox\"}], \"scatterpolar\": [{\"marker\": {\"colorbar\": {\"outlinewidth\": 0, \"ticks\": \"\"}}, \"type\": \"scatterpolar\"}], \"scatterpolargl\": [{\"marker\": {\"colorbar\": {\"outlinewidth\": 0, \"ticks\": \"\"}}, \"type\": \"scatterpolargl\"}], \"scatterternary\": [{\"marker\": {\"colorbar\": {\"outlinewidth\": 0, \"ticks\": \"\"}}, \"type\": \"scatterternary\"}], \"surface\": [{\"colorbar\": {\"outlinewidth\": 0, \"ticks\": \"\"}, \"colorscale\": [[0.0, \"#0d0887\"], [0.1111111111111111, \"#46039f\"], [0.2222222222222222, \"#7201a8\"], [0.3333333333333333, \"#9c179e\"], [0.4444444444444444, \"#bd3786\"], [0.5555555555555556, \"#d8576b\"], [0.6666666666666666, \"#ed7953\"], [0.7777777777777778, \"#fb9f3a\"], [0.8888888888888888, \"#fdca26\"], [1.0, \"#f0f921\"]], \"type\": \"surface\"}], \"table\": [{\"cells\": {\"fill\": {\"color\": \"#EBF0F8\"}, \"line\": {\"color\": \"white\"}}, \"header\": {\"fill\": {\"color\": \"#C8D4E3\"}, \"line\": {\"color\": \"white\"}}, \"type\": \"table\"}]}, \"layout\": {\"annotationdefaults\": {\"arrowcolor\": \"#2a3f5f\", \"arrowhead\": 0, \"arrowwidth\": 1}, \"coloraxis\": {\"colorbar\": {\"outlinewidth\": 0, \"ticks\": \"\"}}, \"colorscale\": {\"diverging\": [[0, \"#8e0152\"], [0.1, \"#c51b7d\"], [0.2, \"#de77ae\"], [0.3, \"#f1b6da\"], [0.4, \"#fde0ef\"], [0.5, \"#f7f7f7\"], [0.6, \"#e6f5d0\"], [0.7, \"#b8e186\"], [0.8, \"#7fbc41\"], [0.9, \"#4d9221\"], [1, \"#276419\"]], \"sequential\": [[0.0, \"#0d0887\"], [0.1111111111111111, \"#46039f\"], [0.2222222222222222, \"#7201a8\"], [0.3333333333333333, \"#9c179e\"], [0.4444444444444444, \"#bd3786\"], [0.5555555555555556, \"#d8576b\"], [0.6666666666666666, \"#ed7953\"], [0.7777777777777778, \"#fb9f3a\"], [0.8888888888888888, \"#fdca26\"], [1.0, \"#f0f921\"]], \"sequentialminus\": [[0.0, \"#0d0887\"], [0.1111111111111111, \"#46039f\"], [0.2222222222222222, \"#7201a8\"], [0.3333333333333333, \"#9c179e\"], [0.4444444444444444, \"#bd3786\"], [0.5555555555555556, \"#d8576b\"], [0.6666666666666666, \"#ed7953\"], [0.7777777777777778, \"#fb9f3a\"], [0.8888888888888888, \"#fdca26\"], [1.0, \"#f0f921\"]]}, \"colorway\": [\"#636efa\", \"#EF553B\", \"#00cc96\", \"#ab63fa\", \"#FFA15A\", \"#19d3f3\", \"#FF6692\", \"#B6E880\", \"#FF97FF\", \"#FECB52\"], \"font\": {\"color\": \"#2a3f5f\"}, \"geo\": {\"bgcolor\": \"white\", \"lakecolor\": \"white\", \"landcolor\": \"#E5ECF6\", \"showlakes\": true, \"showland\": true, \"subunitcolor\": \"white\"}, \"hoverlabel\": {\"align\": \"left\"}, \"hovermode\": \"closest\", \"mapbox\": {\"style\": \"light\"}, \"paper_bgcolor\": \"white\", \"plot_bgcolor\": \"#E5ECF6\", \"polar\": {\"angularaxis\": {\"gridcolor\": \"white\", \"linecolor\": \"white\", \"ticks\": \"\"}, \"bgcolor\": \"#E5ECF6\", \"radialaxis\": {\"gridcolor\": \"white\", \"linecolor\": \"white\", \"ticks\": \"\"}}, \"scene\": {\"xaxis\": {\"backgroundcolor\": \"#E5ECF6\", \"gridcolor\": \"white\", \"gridwidth\": 2, \"linecolor\": \"white\", \"showbackground\": true, \"ticks\": \"\", \"zerolinecolor\": \"white\"}, \"yaxis\": {\"backgroundcolor\": \"#E5ECF6\", \"gridcolor\": \"white\", \"gridwidth\": 2, \"linecolor\": \"white\", \"showbackground\": true, \"ticks\": \"\", \"zerolinecolor\": \"white\"}, \"zaxis\": {\"backgroundcolor\": \"#E5ECF6\", \"gridcolor\": \"white\", \"gridwidth\": 2, \"linecolor\": \"white\", \"showbackground\": true, \"ticks\": \"\", \"zerolinecolor\": \"white\"}}, \"shapedefaults\": {\"line\": {\"color\": \"#2a3f5f\"}}, \"ternary\": {\"aaxis\": {\"gridcolor\": \"white\", \"linecolor\": \"white\", \"ticks\": \"\"}, \"baxis\": {\"gridcolor\": \"white\", \"linecolor\": \"white\", \"ticks\": \"\"}, \"bgcolor\": \"#E5ECF6\", \"caxis\": {\"gridcolor\": \"white\", \"linecolor\": \"white\", \"ticks\": \"\"}}, \"title\": {\"x\": 0.05}, \"xaxis\": {\"automargin\": true, \"gridcolor\": \"white\", \"linecolor\": \"white\", \"ticks\": \"\", \"title\": {\"standoff\": 15}, \"zerolinecolor\": \"white\", \"zerolinewidth\": 2}, \"yaxis\": {\"automargin\": true, \"gridcolor\": \"white\", \"linecolor\": \"white\", \"ticks\": \"\", \"title\": {\"standoff\": 15}, \"zerolinecolor\": \"white\", \"zerolinewidth\": 2}}}, \"xaxis\": {\"anchor\": \"y\", \"domain\": [0.0, 1.0]}, \"yaxis\": {\"anchor\": \"x\", \"domain\": [0.0, 1.0]}},\n",
              "                        {\"responsive\": true}\n",
              "                    ).then(function(){\n",
              "                            \n",
              "var gd = document.getElementById('81c48358-a753-415b-af56-28e62bea74c3');\n",
              "var x = new MutationObserver(function (mutations, observer) {{\n",
              "        var display = window.getComputedStyle(gd).display;\n",
              "        if (!display || display === 'none') {{\n",
              "            console.log([gd, 'removed!']);\n",
              "            Plotly.purge(gd);\n",
              "            observer.disconnect();\n",
              "        }}\n",
              "}});\n",
              "\n",
              "// Listen for the removal of the full notebook cells\n",
              "var notebookContainer = gd.closest('#notebook-container');\n",
              "if (notebookContainer) {{\n",
              "    x.observe(notebookContainer, {childList: true});\n",
              "}}\n",
              "\n",
              "// Listen for the clearing of the current output cell\n",
              "var outputEl = gd.closest('.output');\n",
              "if (outputEl) {{\n",
              "    x.observe(outputEl, {childList: true});\n",
              "}}\n",
              "\n",
              "                        })\n",
              "                };\n",
              "                \n",
              "            </script>\n",
              "        </div>\n",
              "</body>\n",
              "</html>"
            ]
          },
          "metadata": {}
        }
      ]
    },
    {
      "cell_type": "code",
      "metadata": {
        "colab": {
          "base_uri": "https://localhost:8080/",
          "height": 542
        },
        "id": "VzIelQaoqPCB",
        "outputId": "a2749bb6-9356-4042-aa39-f819f9a0ac25"
      },
      "source": [
        "import pandas as pd\n",
        "\n",
        "stages=[\"访问数\",\"下载数\",\"注册数\",\"搜索数\",\"付款数\"]\n",
        "df_male=pd.DataFrame(dict(number=[30,15,10,6,1], stage=stages))\n",
        "df_male['性别']='男'\n",
        "df_female=pd.DataFrame(dict(number=[29,17,8,3,1], stage=stages))\n",
        "df_female['性别']='女'\n",
        "df=pd.concat([df_male,df_female], axis=0)\n",
        "fig=px.funnel(df,x='number',y='stage',color='性别')\n",
        "fig.show()"
      ],
      "execution_count": null,
      "outputs": [
        {
          "output_type": "display_data",
          "data": {
            "text/html": [
              "<html>\n",
              "<head><meta charset=\"utf-8\" /></head>\n",
              "<body>\n",
              "    <div>\n",
              "            <script src=\"https://cdnjs.cloudflare.com/ajax/libs/mathjax/2.7.5/MathJax.js?config=TeX-AMS-MML_SVG\"></script><script type=\"text/javascript\">if (window.MathJax) {MathJax.Hub.Config({SVG: {font: \"STIX-Web\"}});}</script>\n",
              "                <script type=\"text/javascript\">window.PlotlyConfig = {MathJaxConfig: 'local'};</script>\n",
              "        <script src=\"https://cdn.plot.ly/plotly-latest.min.js\"></script>    \n",
              "            <div id=\"d60e06ed-554d-447f-8826-aafe2c6fa072\" class=\"plotly-graph-div\" style=\"height:525px; width:100%;\"></div>\n",
              "            <script type=\"text/javascript\">\n",
              "                \n",
              "                    window.PLOTLYENV=window.PLOTLYENV || {};\n",
              "                    \n",
              "                if (document.getElementById(\"d60e06ed-554d-447f-8826-aafe2c6fa072\")) {\n",
              "                    Plotly.newPlot(\n",
              "                        'd60e06ed-554d-447f-8826-aafe2c6fa072',\n",
              "                        [{\"hoverlabel\": {\"namelength\": 0}, \"hovertemplate\": \"\\u6027\\u522b=\\u7537<br>number=%{x}<br>stage=%{y}\", \"legendgroup\": \"\\u6027\\u522b=\\u7537\", \"marker\": {\"color\": \"#636efa\"}, \"name\": \"\\u6027\\u522b=\\u7537\", \"orientation\": \"h\", \"showlegend\": true, \"type\": \"funnel\", \"x\": [30, 15, 10, 6, 1], \"xaxis\": \"x\", \"y\": [\"\\u8bbf\\u95ee\\u6570\", \"\\u4e0b\\u8f7d\\u6570\", \"\\u6ce8\\u518c\\u6570\", \"\\u641c\\u7d22\\u6570\", \"\\u4ed8\\u6b3e\\u6570\"], \"yaxis\": \"y\"}, {\"hoverlabel\": {\"namelength\": 0}, \"hovertemplate\": \"\\u6027\\u522b=\\u5973<br>number=%{x}<br>stage=%{y}\", \"legendgroup\": \"\\u6027\\u522b=\\u5973\", \"marker\": {\"color\": \"#EF553B\"}, \"name\": \"\\u6027\\u522b=\\u5973\", \"orientation\": \"h\", \"showlegend\": true, \"type\": \"funnel\", \"x\": [29, 17, 8, 3, 1], \"xaxis\": \"x\", \"y\": [\"\\u8bbf\\u95ee\\u6570\", \"\\u4e0b\\u8f7d\\u6570\", \"\\u6ce8\\u518c\\u6570\", \"\\u641c\\u7d22\\u6570\", \"\\u4ed8\\u6b3e\\u6570\"], \"yaxis\": \"y\"}],\n",
              "                        {\"legend\": {\"tracegroupgap\": 0}, \"margin\": {\"t\": 60}, \"template\": {\"data\": {\"bar\": [{\"error_x\": {\"color\": \"#2a3f5f\"}, \"error_y\": {\"color\": \"#2a3f5f\"}, \"marker\": {\"line\": {\"color\": \"#E5ECF6\", \"width\": 0.5}}, \"type\": \"bar\"}], \"barpolar\": [{\"marker\": {\"line\": {\"color\": \"#E5ECF6\", \"width\": 0.5}}, \"type\": \"barpolar\"}], \"carpet\": [{\"aaxis\": {\"endlinecolor\": \"#2a3f5f\", \"gridcolor\": \"white\", \"linecolor\": \"white\", \"minorgridcolor\": \"white\", \"startlinecolor\": \"#2a3f5f\"}, \"baxis\": {\"endlinecolor\": \"#2a3f5f\", \"gridcolor\": \"white\", \"linecolor\": \"white\", \"minorgridcolor\": \"white\", \"startlinecolor\": \"#2a3f5f\"}, \"type\": \"carpet\"}], \"choropleth\": [{\"colorbar\": {\"outlinewidth\": 0, \"ticks\": \"\"}, \"type\": \"choropleth\"}], \"contour\": [{\"colorbar\": {\"outlinewidth\": 0, \"ticks\": \"\"}, \"colorscale\": [[0.0, \"#0d0887\"], [0.1111111111111111, \"#46039f\"], [0.2222222222222222, \"#7201a8\"], [0.3333333333333333, \"#9c179e\"], [0.4444444444444444, \"#bd3786\"], [0.5555555555555556, \"#d8576b\"], [0.6666666666666666, \"#ed7953\"], [0.7777777777777778, \"#fb9f3a\"], [0.8888888888888888, \"#fdca26\"], [1.0, \"#f0f921\"]], \"type\": \"contour\"}], \"contourcarpet\": [{\"colorbar\": {\"outlinewidth\": 0, \"ticks\": \"\"}, \"type\": \"contourcarpet\"}], \"heatmap\": [{\"colorbar\": {\"outlinewidth\": 0, \"ticks\": \"\"}, \"colorscale\": [[0.0, \"#0d0887\"], [0.1111111111111111, \"#46039f\"], [0.2222222222222222, \"#7201a8\"], [0.3333333333333333, \"#9c179e\"], [0.4444444444444444, \"#bd3786\"], [0.5555555555555556, \"#d8576b\"], [0.6666666666666666, \"#ed7953\"], [0.7777777777777778, \"#fb9f3a\"], [0.8888888888888888, \"#fdca26\"], [1.0, \"#f0f921\"]], \"type\": \"heatmap\"}], \"heatmapgl\": [{\"colorbar\": {\"outlinewidth\": 0, \"ticks\": \"\"}, \"colorscale\": [[0.0, \"#0d0887\"], [0.1111111111111111, \"#46039f\"], [0.2222222222222222, \"#7201a8\"], [0.3333333333333333, \"#9c179e\"], [0.4444444444444444, \"#bd3786\"], [0.5555555555555556, \"#d8576b\"], [0.6666666666666666, \"#ed7953\"], [0.7777777777777778, \"#fb9f3a\"], [0.8888888888888888, \"#fdca26\"], [1.0, \"#f0f921\"]], \"type\": \"heatmapgl\"}], \"histogram\": [{\"marker\": {\"colorbar\": {\"outlinewidth\": 0, \"ticks\": \"\"}}, \"type\": \"histogram\"}], \"histogram2d\": [{\"colorbar\": {\"outlinewidth\": 0, \"ticks\": \"\"}, \"colorscale\": [[0.0, \"#0d0887\"], [0.1111111111111111, \"#46039f\"], [0.2222222222222222, \"#7201a8\"], [0.3333333333333333, \"#9c179e\"], [0.4444444444444444, \"#bd3786\"], [0.5555555555555556, \"#d8576b\"], [0.6666666666666666, \"#ed7953\"], [0.7777777777777778, \"#fb9f3a\"], [0.8888888888888888, \"#fdca26\"], [1.0, \"#f0f921\"]], \"type\": \"histogram2d\"}], \"histogram2dcontour\": [{\"colorbar\": {\"outlinewidth\": 0, \"ticks\": \"\"}, \"colorscale\": [[0.0, \"#0d0887\"], [0.1111111111111111, \"#46039f\"], [0.2222222222222222, \"#7201a8\"], [0.3333333333333333, \"#9c179e\"], [0.4444444444444444, \"#bd3786\"], [0.5555555555555556, \"#d8576b\"], [0.6666666666666666, \"#ed7953\"], [0.7777777777777778, \"#fb9f3a\"], [0.8888888888888888, \"#fdca26\"], [1.0, \"#f0f921\"]], \"type\": \"histogram2dcontour\"}], \"mesh3d\": [{\"colorbar\": {\"outlinewidth\": 0, \"ticks\": \"\"}, \"type\": \"mesh3d\"}], \"parcoords\": [{\"line\": {\"colorbar\": {\"outlinewidth\": 0, \"ticks\": \"\"}}, \"type\": \"parcoords\"}], \"pie\": [{\"automargin\": true, \"type\": \"pie\"}], \"scatter\": [{\"marker\": {\"colorbar\": {\"outlinewidth\": 0, \"ticks\": \"\"}}, \"type\": \"scatter\"}], \"scatter3d\": [{\"line\": {\"colorbar\": {\"outlinewidth\": 0, \"ticks\": \"\"}}, \"marker\": {\"colorbar\": {\"outlinewidth\": 0, \"ticks\": \"\"}}, \"type\": \"scatter3d\"}], \"scattercarpet\": [{\"marker\": {\"colorbar\": {\"outlinewidth\": 0, \"ticks\": \"\"}}, \"type\": \"scattercarpet\"}], \"scattergeo\": [{\"marker\": {\"colorbar\": {\"outlinewidth\": 0, \"ticks\": \"\"}}, \"type\": \"scattergeo\"}], \"scattergl\": [{\"marker\": {\"colorbar\": {\"outlinewidth\": 0, \"ticks\": \"\"}}, \"type\": \"scattergl\"}], \"scattermapbox\": [{\"marker\": {\"colorbar\": {\"outlinewidth\": 0, \"ticks\": \"\"}}, \"type\": \"scattermapbox\"}], \"scatterpolar\": [{\"marker\": {\"colorbar\": {\"outlinewidth\": 0, \"ticks\": \"\"}}, \"type\": \"scatterpolar\"}], \"scatterpolargl\": [{\"marker\": {\"colorbar\": {\"outlinewidth\": 0, \"ticks\": \"\"}}, \"type\": \"scatterpolargl\"}], \"scatterternary\": [{\"marker\": {\"colorbar\": {\"outlinewidth\": 0, \"ticks\": \"\"}}, \"type\": \"scatterternary\"}], \"surface\": [{\"colorbar\": {\"outlinewidth\": 0, \"ticks\": \"\"}, \"colorscale\": [[0.0, \"#0d0887\"], [0.1111111111111111, \"#46039f\"], [0.2222222222222222, \"#7201a8\"], [0.3333333333333333, \"#9c179e\"], [0.4444444444444444, \"#bd3786\"], [0.5555555555555556, \"#d8576b\"], [0.6666666666666666, \"#ed7953\"], [0.7777777777777778, \"#fb9f3a\"], [0.8888888888888888, \"#fdca26\"], [1.0, \"#f0f921\"]], \"type\": \"surface\"}], \"table\": [{\"cells\": {\"fill\": {\"color\": \"#EBF0F8\"}, \"line\": {\"color\": \"white\"}}, \"header\": {\"fill\": {\"color\": \"#C8D4E3\"}, \"line\": {\"color\": \"white\"}}, \"type\": \"table\"}]}, \"layout\": {\"annotationdefaults\": {\"arrowcolor\": \"#2a3f5f\", \"arrowhead\": 0, \"arrowwidth\": 1}, \"coloraxis\": {\"colorbar\": {\"outlinewidth\": 0, \"ticks\": \"\"}}, \"colorscale\": {\"diverging\": [[0, \"#8e0152\"], [0.1, \"#c51b7d\"], [0.2, \"#de77ae\"], [0.3, \"#f1b6da\"], [0.4, \"#fde0ef\"], [0.5, \"#f7f7f7\"], [0.6, \"#e6f5d0\"], [0.7, \"#b8e186\"], [0.8, \"#7fbc41\"], [0.9, \"#4d9221\"], [1, \"#276419\"]], \"sequential\": [[0.0, \"#0d0887\"], [0.1111111111111111, \"#46039f\"], [0.2222222222222222, \"#7201a8\"], [0.3333333333333333, \"#9c179e\"], [0.4444444444444444, \"#bd3786\"], [0.5555555555555556, \"#d8576b\"], [0.6666666666666666, \"#ed7953\"], [0.7777777777777778, \"#fb9f3a\"], [0.8888888888888888, \"#fdca26\"], [1.0, \"#f0f921\"]], \"sequentialminus\": [[0.0, \"#0d0887\"], [0.1111111111111111, \"#46039f\"], [0.2222222222222222, \"#7201a8\"], [0.3333333333333333, \"#9c179e\"], [0.4444444444444444, \"#bd3786\"], [0.5555555555555556, \"#d8576b\"], [0.6666666666666666, \"#ed7953\"], [0.7777777777777778, \"#fb9f3a\"], [0.8888888888888888, \"#fdca26\"], [1.0, \"#f0f921\"]]}, \"colorway\": [\"#636efa\", \"#EF553B\", \"#00cc96\", \"#ab63fa\", \"#FFA15A\", \"#19d3f3\", \"#FF6692\", \"#B6E880\", \"#FF97FF\", \"#FECB52\"], \"font\": {\"color\": \"#2a3f5f\"}, \"geo\": {\"bgcolor\": \"white\", \"lakecolor\": \"white\", \"landcolor\": \"#E5ECF6\", \"showlakes\": true, \"showland\": true, \"subunitcolor\": \"white\"}, \"hoverlabel\": {\"align\": \"left\"}, \"hovermode\": \"closest\", \"mapbox\": {\"style\": \"light\"}, \"paper_bgcolor\": \"white\", \"plot_bgcolor\": \"#E5ECF6\", \"polar\": {\"angularaxis\": {\"gridcolor\": \"white\", \"linecolor\": \"white\", \"ticks\": \"\"}, \"bgcolor\": \"#E5ECF6\", \"radialaxis\": {\"gridcolor\": \"white\", \"linecolor\": \"white\", \"ticks\": \"\"}}, \"scene\": {\"xaxis\": {\"backgroundcolor\": \"#E5ECF6\", \"gridcolor\": \"white\", \"gridwidth\": 2, \"linecolor\": \"white\", \"showbackground\": true, \"ticks\": \"\", \"zerolinecolor\": \"white\"}, \"yaxis\": {\"backgroundcolor\": \"#E5ECF6\", \"gridcolor\": \"white\", \"gridwidth\": 2, \"linecolor\": \"white\", \"showbackground\": true, \"ticks\": \"\", \"zerolinecolor\": \"white\"}, \"zaxis\": {\"backgroundcolor\": \"#E5ECF6\", \"gridcolor\": \"white\", \"gridwidth\": 2, \"linecolor\": \"white\", \"showbackground\": true, \"ticks\": \"\", \"zerolinecolor\": \"white\"}}, \"shapedefaults\": {\"line\": {\"color\": \"#2a3f5f\"}}, \"ternary\": {\"aaxis\": {\"gridcolor\": \"white\", \"linecolor\": \"white\", \"ticks\": \"\"}, \"baxis\": {\"gridcolor\": \"white\", \"linecolor\": \"white\", \"ticks\": \"\"}, \"bgcolor\": \"#E5ECF6\", \"caxis\": {\"gridcolor\": \"white\", \"linecolor\": \"white\", \"ticks\": \"\"}}, \"title\": {\"x\": 0.05}, \"xaxis\": {\"automargin\": true, \"gridcolor\": \"white\", \"linecolor\": \"white\", \"ticks\": \"\", \"title\": {\"standoff\": 15}, \"zerolinecolor\": \"white\", \"zerolinewidth\": 2}, \"yaxis\": {\"automargin\": true, \"gridcolor\": \"white\", \"linecolor\": \"white\", \"ticks\": \"\", \"title\": {\"standoff\": 15}, \"zerolinecolor\": \"white\", \"zerolinewidth\": 2}}}, \"xaxis\": {\"anchor\": \"y\", \"domain\": [0.0, 1.0]}, \"yaxis\": {\"anchor\": \"x\", \"domain\": [0.0, 1.0]}},\n",
              "                        {\"responsive\": true}\n",
              "                    ).then(function(){\n",
              "                            \n",
              "var gd = document.getElementById('d60e06ed-554d-447f-8826-aafe2c6fa072');\n",
              "var x = new MutationObserver(function (mutations, observer) {{\n",
              "        var display = window.getComputedStyle(gd).display;\n",
              "        if (!display || display === 'none') {{\n",
              "            console.log([gd, 'removed!']);\n",
              "            Plotly.purge(gd);\n",
              "            observer.disconnect();\n",
              "        }}\n",
              "}});\n",
              "\n",
              "// Listen for the removal of the full notebook cells\n",
              "var notebookContainer = gd.closest('#notebook-container');\n",
              "if (notebookContainer) {{\n",
              "    x.observe(notebookContainer, {childList: true});\n",
              "}}\n",
              "\n",
              "// Listen for the clearing of the current output cell\n",
              "var outputEl = gd.closest('.output');\n",
              "if (outputEl) {{\n",
              "    x.observe(outputEl, {childList: true});\n",
              "}}\n",
              "\n",
              "                        })\n",
              "                };\n",
              "                \n",
              "            </script>\n",
              "        </div>\n",
              "</body>\n",
              "</html>"
            ]
          },
          "metadata": {}
        }
      ]
    },
    {
      "cell_type": "markdown",
      "metadata": {
        "id": "r--eCeHYwR1d"
      },
      "source": [
        "## 定义问题 & 预处理数据"
      ]
    },
    {
      "cell_type": "code",
      "metadata": {
        "colab": {
          "base_uri": "https://localhost:8080/"
        },
        "id": "arnMJTnJLaAx",
        "outputId": "83cf1290-0f67-4f55-c40c-bfef5285d8d1"
      },
      "source": [
        "!wget https://raw.githubusercontent.com/huangjia2019/geektime/main/%E5%87%86%E5%A4%87%E7%AF%8703/%E6%98%93%E9%80%9F%E9%B2%9C%E8%8A%B1%E5%BE%AE%E4%BF%A1%E8%BD%AF%E6%96%87.csv"
      ],
      "execution_count": 14,
      "outputs": [
        {
          "output_type": "stream",
          "name": "stdout",
          "text": [
            "--2021-09-07 16:53:22--  https://raw.githubusercontent.com/huangjia2019/geektime/main/%E5%87%86%E5%A4%87%E7%AF%8703/%E6%98%93%E9%80%9F%E9%B2%9C%E8%8A%B1%E5%BE%AE%E4%BF%A1%E8%BD%AF%E6%96%87.csv\n",
            "Resolving raw.githubusercontent.com (raw.githubusercontent.com)... 185.199.110.133, 185.199.108.133, 185.199.109.133, ...\n",
            "Connecting to raw.githubusercontent.com (raw.githubusercontent.com)|185.199.110.133|:443... connected.\n",
            "HTTP request sent, awaiting response... 200 OK\n",
            "Length: 31110 (30K) [text/plain]\n",
            "Saving to: ‘易速鲜花微信软文.csv’\n",
            "\n",
            "易速鲜花微信软文.cs 100%[===================>]  30.38K  --.-KB/s    in 0.003s  \n",
            "\n",
            "2021-09-07 16:53:22 (9.61 MB/s) - ‘易速鲜花微信软文.csv’ saved [31110/31110]\n",
            "\n"
          ]
        }
      ]
    },
    {
      "cell_type": "code",
      "metadata": {
        "colab": {
          "base_uri": "https://localhost:8080/"
        },
        "id": "xKO4jFBXLKs3",
        "outputId": "f2070282-8dbf-4336-fa3d-a239d03bc820"
      },
      "source": [
        "!ls -la"
      ],
      "execution_count": 13,
      "outputs": [
        {
          "output_type": "stream",
          "name": "stdout",
          "text": [
            "total 20\n",
            "drwxr-xr-x 1 root root 4096 Sep  7 16:53 .\n",
            "drwxr-xr-x 1 root root 4096 Sep  7 16:45 ..\n",
            "drwxr-xr-x 4 root root 4096 Sep  1 19:26 .config\n",
            "drwxr-xr-x 2 root root 4096 Sep  7 16:53 .ipynb_checkpoints\n",
            "drwxr-xr-x 1 root root 4096 Sep  1 19:26 sample_data\n"
          ]
        }
      ]
    },
    {
      "cell_type": "code",
      "metadata": {
        "colab": {
          "base_uri": "https://localhost:8080/",
          "height": 204
        },
        "id": "vjkyeibTwl_9",
        "outputId": "a67ead18-e93c-4c69-e7cc-8289f3bd56cb"
      },
      "source": [
        "import pandas as pd\n",
        "\n",
        "df_ads=pd.read_csv('易速鲜花微信软文.csv')\n",
        "df_ads.head()"
      ],
      "execution_count": 15,
      "outputs": [
        {
          "output_type": "execute_result",
          "data": {
            "text/html": [
              "<div>\n",
              "<style scoped>\n",
              "    .dataframe tbody tr th:only-of-type {\n",
              "        vertical-align: middle;\n",
              "    }\n",
              "\n",
              "    .dataframe tbody tr th {\n",
              "        vertical-align: top;\n",
              "    }\n",
              "\n",
              "    .dataframe thead th {\n",
              "        text-align: right;\n",
              "    }\n",
              "</style>\n",
              "<table border=\"1\" class=\"dataframe\">\n",
              "  <thead>\n",
              "    <tr style=\"text-align: right;\">\n",
              "      <th></th>\n",
              "      <th>点赞数</th>\n",
              "      <th>转发数</th>\n",
              "      <th>热度指数</th>\n",
              "      <th>文章评级</th>\n",
              "      <th>浏览量</th>\n",
              "    </tr>\n",
              "  </thead>\n",
              "  <tbody>\n",
              "    <tr>\n",
              "      <th>0</th>\n",
              "      <td>2646</td>\n",
              "      <td>1347.0</td>\n",
              "      <td>7</td>\n",
              "      <td>5</td>\n",
              "      <td>260004</td>\n",
              "    </tr>\n",
              "    <tr>\n",
              "      <th>1</th>\n",
              "      <td>816</td>\n",
              "      <td>816.0</td>\n",
              "      <td>4</td>\n",
              "      <td>6</td>\n",
              "      <td>100004</td>\n",
              "    </tr>\n",
              "    <tr>\n",
              "      <th>2</th>\n",
              "      <td>1224</td>\n",
              "      <td>612.0</td>\n",
              "      <td>6</td>\n",
              "      <td>5</td>\n",
              "      <td>164502</td>\n",
              "    </tr>\n",
              "    <tr>\n",
              "      <th>3</th>\n",
              "      <td>1261</td>\n",
              "      <td>1261.0</td>\n",
              "      <td>6</td>\n",
              "      <td>6</td>\n",
              "      <td>163001</td>\n",
              "    </tr>\n",
              "    <tr>\n",
              "      <th>4</th>\n",
              "      <td>1720</td>\n",
              "      <td>1720.0</td>\n",
              "      <td>7</td>\n",
              "      <td>5</td>\n",
              "      <td>260401</td>\n",
              "    </tr>\n",
              "  </tbody>\n",
              "</table>\n",
              "</div>"
            ],
            "text/plain": [
              "    点赞数     转发数  热度指数  文章评级     浏览量\n",
              "0  2646  1347.0     7     5  260004\n",
              "1   816   816.0     4     6  100004\n",
              "2  1224   612.0     6     5  164502\n",
              "3  1261  1261.0     6     6  163001\n",
              "4  1720  1720.0     7     5  260401"
            ]
          },
          "metadata": {},
          "execution_count": 15
        }
      ]
    },
    {
      "cell_type": "markdown",
      "metadata": {
        "id": "a6C7PUPW2O9r"
      },
      "source": [
        "### 散点图"
      ]
    },
    {
      "cell_type": "code",
      "metadata": {
        "colab": {
          "base_uri": "https://localhost:8080/",
          "height": 285
        },
        "id": "qs-DqI_mxPlu",
        "outputId": "78219d19-627e-449f-bffe-f3f645d1fff2"
      },
      "source": [
        "import matplotlib.pyplot as plt\n",
        "import seaborn as sns\n",
        "\n",
        "plt.plot(df_ads['点赞数'],df_ads['浏览量'],'r.',label='Training data')\n",
        "plt.xlabel('点赞数',fontproperties=myfont)\n",
        "plt.ylabel('浏览量',fontproperties=myfont)\n",
        "plt.legend()\n",
        "plt.show()"
      ],
      "execution_count": 54,
      "outputs": [
        {
          "output_type": "display_data",
          "data": {
            "image/png": "[encoded data removed]",
            "text/plain": [
              "<Figure size 432x288 with 1 Axes>"
            ]
          },
          "metadata": {}
        }
      ]
    },
    {
      "cell_type": "markdown",
      "metadata": {
        "id": "QFGyXEQ82Sgs"
      },
      "source": [
        "### 箱线图"
      ]
    },
    {
      "cell_type": "code",
      "metadata": {
        "colab": {
          "base_uri": "https://localhost:8080/",
          "height": 1000
        },
        "id": "wy87vsiL2LL6",
        "outputId": "a679e782-a65f-4b44-8bf7-ac2fc8157fc6"
      },
      "source": [
        "# sns.set(font=myfont.get_family())\n",
        "# sns.set_style(\"whitegrid\",{\"font.sans-serif\":['Microsoft YaHei']})\n",
        "sns.set(font=myfont.get_name())\n",
        "data = pd.concat([df_ads['浏览量'],df_ads['热度指数']], axis=1)\n",
        "fig = sns.boxplot(x='热度指数',y='浏览量', data=data)\n",
        "fig.axis(ymin=0, ymax=800000)"
      ],
      "execution_count": 55,
      "outputs": [
        {
          "output_type": "execute_result",
          "data": {
            "text/plain": [
              "(-0.5, 9.5, 0.0, 800000.0)"
            ]
          },
          "metadata": {},
          "execution_count": 55
        },
        {
          "output_type": "stream",
          "name": "stderr",
          "text": [
            "/usr/local/lib/python3.7/dist-packages/matplotlib/backends/backend_agg.py:214: RuntimeWarning:\n",
            "\n",
            "Glyph 28909 missing from current font.\n",
            "\n",
            "/usr/local/lib/python3.7/dist-packages/matplotlib/backends/backend_agg.py:214: RuntimeWarning:\n",
            "\n",
            "Glyph 24230 missing from current font.\n",
            "\n",
            "/usr/local/lib/python3.7/dist-packages/matplotlib/backends/backend_agg.py:214: RuntimeWarning:\n",
            "\n",
            "Glyph 25351 missing from current font.\n",
            "\n",
            "/usr/local/lib/python3.7/dist-packages/matplotlib/backends/backend_agg.py:214: RuntimeWarning:\n",
            "\n",
            "Glyph 25968 missing from current font.\n",
            "\n",
            "/usr/local/lib/python3.7/dist-packages/matplotlib/backends/backend_agg.py:183: RuntimeWarning:\n",
            "\n",
            "Glyph 28909 missing from current font.\n",
            "\n",
            "/usr/local/lib/python3.7/dist-packages/matplotlib/backends/backend_agg.py:183: RuntimeWarning:\n",
            "\n",
            "Glyph 24230 missing from current font.\n",
            "\n",
            "/usr/local/lib/python3.7/dist-packages/matplotlib/backends/backend_agg.py:183: RuntimeWarning:\n",
            "\n",
            "Glyph 25351 missing from current font.\n",
            "\n",
            "/usr/local/lib/python3.7/dist-packages/matplotlib/backends/backend_agg.py:183: RuntimeWarning:\n",
            "\n",
            "Glyph 25968 missing from current font.\n",
            "\n",
            "/usr/local/lib/python3.7/dist-packages/matplotlib/backends/backend_agg.py:214: RuntimeWarning:\n",
            "\n",
            "Glyph 27983 missing from current font.\n",
            "\n",
            "/usr/local/lib/python3.7/dist-packages/matplotlib/backends/backend_agg.py:214: RuntimeWarning:\n",
            "\n",
            "Glyph 35272 missing from current font.\n",
            "\n",
            "/usr/local/lib/python3.7/dist-packages/matplotlib/backends/backend_agg.py:214: RuntimeWarning:\n",
            "\n",
            "Glyph 37327 missing from current font.\n",
            "\n",
            "/usr/local/lib/python3.7/dist-packages/matplotlib/backends/backend_agg.py:183: RuntimeWarning:\n",
            "\n",
            "Glyph 27983 missing from current font.\n",
            "\n",
            "/usr/local/lib/python3.7/dist-packages/matplotlib/backends/backend_agg.py:183: RuntimeWarning:\n",
            "\n",
            "Glyph 35272 missing from current font.\n",
            "\n",
            "/usr/local/lib/python3.7/dist-packages/matplotlib/backends/backend_agg.py:183: RuntimeWarning:\n",
            "\n",
            "Glyph 37327 missing from current font.\n",
            "\n"
          ]
        },
        {
          "output_type": "display_data",
          "data": {
            "image/png": "[encoded data removed]",
            "text/plain": [
              "<Figure size 432x288 with 1 Axes>"
            ]
          },
          "metadata": {}
        }
      ]
    },
    {
      "cell_type": "markdown",
      "metadata": {
        "id": "Kfi4CfUf4EAk"
      },
      "source": [
        "### 脏数据"
      ]
    },
    {
      "cell_type": "code",
      "metadata": {
        "colab": {
          "base_uri": "https://localhost:8080/"
        },
        "id": "XeJQrmsf38Rl",
        "outputId": "ee7c2180-b610-4276-b97a-a10997911466"
      },
      "source": [
        "df_ads.isna().sum()"
      ],
      "execution_count": 57,
      "outputs": [
        {
          "output_type": "execute_result",
          "data": {
            "text/plain": [
              "点赞数      0\n",
              "转发数     37\n",
              "热度指数     0\n",
              "文章评级     0\n",
              "浏览量      0\n",
              "dtype: int64"
            ]
          },
          "metadata": {},
          "execution_count": 57
        }
      ]
    },
    {
      "cell_type": "code",
      "metadata": {
        "id": "I5dNEOLA4WHF"
      },
      "source": [
        "df_ads = df_ads.dropna()\n",
        "\n",
        "# df_ads['转发数'].fillna(df_ads['转发数'].mean(), inplace=True) #均数\n",
        "# df_ads['转发数'].fillna(df_ads['转发数'].median(), inplace=True) #中位数\n",
        "# df_ads['转发数'].fillna(df_ads['转发数'].mode(), inplace=True) #众数"
      ],
      "execution_count": 58,
      "outputs": []
    },
    {
      "cell_type": "markdown",
      "metadata": {
        "id": "9QYs76ej5VMi"
      },
      "source": [
        "### 特征集"
      ]
    },
    {
      "cell_type": "code",
      "metadata": {
        "id": "Lno41b-k5RUH"
      },
      "source": [
        "X = df_ads.drop(['浏览量'],axis=1)"
      ],
      "execution_count": 59,
      "outputs": []
    },
    {
      "cell_type": "code",
      "metadata": {
        "colab": {
          "base_uri": "https://localhost:8080/",
          "height": 204
        },
        "id": "HfbkLfra54Dv",
        "outputId": "6c5ab219-58bb-4c74-ff78-50c09d95de0b"
      },
      "source": [
        "X.head()"
      ],
      "execution_count": 60,
      "outputs": [
        {
          "output_type": "execute_result",
          "data": {
            "text/html": [
              "<div>\n",
              "<style scoped>\n",
              "    .dataframe tbody tr th:only-of-type {\n",
              "        vertical-align: middle;\n",
              "    }\n",
              "\n",
              "    .dataframe tbody tr th {\n",
              "        vertical-align: top;\n",
              "    }\n",
              "\n",
              "    .dataframe thead th {\n",
              "        text-align: right;\n",
              "    }\n",
              "</style>\n",
              "<table border=\"1\" class=\"dataframe\">\n",
              "  <thead>\n",
              "    <tr style=\"text-align: right;\">\n",
              "      <th></th>\n",
              "      <th>点赞数</th>\n",
              "      <th>转发数</th>\n",
              "      <th>热度指数</th>\n",
              "      <th>文章评级</th>\n",
              "    </tr>\n",
              "  </thead>\n",
              "  <tbody>\n",
              "    <tr>\n",
              "      <th>0</th>\n",
              "      <td>2646</td>\n",
              "      <td>1347.0</td>\n",
              "      <td>7</td>\n",
              "      <td>5</td>\n",
              "    </tr>\n",
              "    <tr>\n",
              "      <th>1</th>\n",
              "      <td>816</td>\n",
              "      <td>816.0</td>\n",
              "      <td>4</td>\n",
              "      <td>6</td>\n",
              "    </tr>\n",
              "    <tr>\n",
              "      <th>2</th>\n",
              "      <td>1224</td>\n",
              "      <td>612.0</td>\n",
              "      <td>6</td>\n",
              "      <td>5</td>\n",
              "    </tr>\n",
              "    <tr>\n",
              "      <th>3</th>\n",
              "      <td>1261</td>\n",
              "      <td>1261.0</td>\n",
              "      <td>6</td>\n",
              "      <td>6</td>\n",
              "    </tr>\n",
              "    <tr>\n",
              "      <th>4</th>\n",
              "      <td>1720</td>\n",
              "      <td>1720.0</td>\n",
              "      <td>7</td>\n",
              "      <td>5</td>\n",
              "    </tr>\n",
              "  </tbody>\n",
              "</table>\n",
              "</div>"
            ],
            "text/plain": [
              "    点赞数     转发数  热度指数  文章评级\n",
              "0  2646  1347.0     7     5\n",
              "1   816   816.0     4     6\n",
              "2  1224   612.0     6     5\n",
              "3  1261  1261.0     6     6\n",
              "4  1720  1720.0     7     5"
            ]
          },
          "metadata": {},
          "execution_count": 60
        }
      ]
    },
    {
      "cell_type": "markdown",
      "metadata": {
        "id": "4ToHttyu5iUW"
      },
      "source": [
        "### 标签集"
      ]
    },
    {
      "cell_type": "code",
      "metadata": {
        "id": "W3awUjXI5nTk"
      },
      "source": [
        "y = df_ads.浏览量"
      ],
      "execution_count": 61,
      "outputs": []
    },
    {
      "cell_type": "code",
      "metadata": {
        "colab": {
          "base_uri": "https://localhost:8080/"
        },
        "id": "e5vNrEdD51Se",
        "outputId": "873f49b5-7220-42e1-da06-bbd0cb046fba"
      },
      "source": [
        "y.head()"
      ],
      "execution_count": 62,
      "outputs": [
        {
          "output_type": "execute_result",
          "data": {
            "text/plain": [
              "0    260004\n",
              "1    100004\n",
              "2    164502\n",
              "3    163001\n",
              "4    260401\n",
              "Name: 浏览量, dtype: int64"
            ]
          },
          "metadata": {},
          "execution_count": 62
        }
      ]
    },
    {
      "cell_type": "markdown",
      "metadata": {
        "id": "0OtrfGp66mgP"
      },
      "source": [
        "### 拆分训练集、验证集和测试集"
      ]
    },
    {
      "cell_type": "code",
      "metadata": {
        "id": "B8ElNRjw6wc8"
      },
      "source": [
        "from sklearn.model_selection import train_test_split\n",
        "\n",
        "X_train, X_test, y_train, y_test = train_test_split(X, y, test_size=0.2, random_state=0)"
      ],
      "execution_count": 64,
      "outputs": []
    },
    {
      "cell_type": "markdown",
      "metadata": {
        "id": "LWciPYnkescv"
      },
      "source": [
        "### 选择算法 & 建立模型"
      ]
    },
    {
      "cell_type": "code",
      "metadata": {
        "id": "JnSpo6-ReSbV"
      },
      "source": [
        "from sklearn.linear_model import LinearRegression\n",
        "\n",
        "# fit_intercept = True, normalize = False\n",
        "linereg_model = LinearRegression(fit_intercept=True, normalize=False)"
      ],
      "execution_count": 76,
      "outputs": []
    },
    {
      "cell_type": "markdown",
      "metadata": {
        "id": "L98x9XVvg_k2"
      },
      "source": [
        "### 训练模型"
      ]
    },
    {
      "cell_type": "code",
      "metadata": {
        "colab": {
          "base_uri": "https://localhost:8080/"
        },
        "id": "WzVNoB_khC2d",
        "outputId": "438d18be-2509-4705-ef17-29b91c2a952d"
      },
      "source": [
        "linereg_model.fit(X_train, y_train)"
      ],
      "execution_count": 77,
      "outputs": [
        {
          "output_type": "execute_result",
          "data": {
            "text/plain": [
              "LinearRegression(copy_X=True, fit_intercept=True, n_jobs=None, normalize=False)"
            ]
          },
          "metadata": {},
          "execution_count": 77
        }
      ]
    },
    {
      "cell_type": "markdown",
      "metadata": {
        "id": "w30_KB6yi5_g"
      },
      "source": [
        "### 模型的预测和优化"
      ]
    },
    {
      "cell_type": "code",
      "metadata": {
        "id": "uXOFJggci5MO"
      },
      "source": [
        "y_pred = linereg_model.predict(X_test)"
      ],
      "execution_count": 78,
      "outputs": []
    },
    {
      "cell_type": "code",
      "metadata": {
        "colab": {
          "base_uri": "https://localhost:8080/",
          "height": 419
        },
        "id": "nlPxyctajbWl",
        "outputId": "922f309b-e8ca-4b45-96fb-fea42e7d8201"
      },
      "source": [
        "df_ads_pred = X_test.copy()\n",
        "df_ads_pred['浏览量真值'] = y_test\n",
        "df_ads_pred['浏览量预测值'] = y_pred\n",
        "df_ads_pred"
      ],
      "execution_count": 79,
      "outputs": [
        {
          "output_type": "execute_result",
          "data": {
            "text/html": [
              "<div>\n",
              "<style scoped>\n",
              "    .dataframe tbody tr th:only-of-type {\n",
              "        vertical-align: middle;\n",
              "    }\n",
              "\n",
              "    .dataframe tbody tr th {\n",
              "        vertical-align: top;\n",
              "    }\n",
              "\n",
              "    .dataframe thead th {\n",
              "        text-align: right;\n",
              "    }\n",
              "</style>\n",
              "<table border=\"1\" class=\"dataframe\">\n",
              "  <thead>\n",
              "    <tr style=\"text-align: right;\">\n",
              "      <th></th>\n",
              "      <th>点赞数</th>\n",
              "      <th>转发数</th>\n",
              "      <th>热度指数</th>\n",
              "      <th>文章评级</th>\n",
              "      <th>浏览量真值</th>\n",
              "      <th>浏览量预测值</th>\n",
              "    </tr>\n",
              "  </thead>\n",
              "  <tbody>\n",
              "    <tr>\n",
              "      <th>1074</th>\n",
              "      <td>1709</td>\n",
              "      <td>970.0</td>\n",
              "      <td>6</td>\n",
              "      <td>5</td>\n",
              "      <td>130003</td>\n",
              "      <td>181499.180492</td>\n",
              "    </tr>\n",
              "    <tr>\n",
              "      <th>404</th>\n",
              "      <td>1440</td>\n",
              "      <td>1440.0</td>\n",
              "      <td>4</td>\n",
              "      <td>4</td>\n",
              "      <td>118005</td>\n",
              "      <td>122478.101604</td>\n",
              "    </tr>\n",
              "    <tr>\n",
              "      <th>1375</th>\n",
              "      <td>1434</td>\n",
              "      <td>1454.0</td>\n",
              "      <td>7</td>\n",
              "      <td>5</td>\n",
              "      <td>189003</td>\n",
              "      <td>214815.847941</td>\n",
              "    </tr>\n",
              "    <tr>\n",
              "      <th>1317</th>\n",
              "      <td>832</td>\n",
              "      <td>832.0</td>\n",
              "      <td>6</td>\n",
              "      <td>6</td>\n",
              "      <td>105504</td>\n",
              "      <td>137486.350468</td>\n",
              "    </tr>\n",
              "    <tr>\n",
              "      <th>145</th>\n",
              "      <td>923</td>\n",
              "      <td>876.0</td>\n",
              "      <td>5</td>\n",
              "      <td>5</td>\n",
              "      <td>119501</td>\n",
              "      <td>110710.382414</td>\n",
              "    </tr>\n",
              "    <tr>\n",
              "      <th>...</th>\n",
              "      <td>...</td>\n",
              "      <td>...</td>\n",
              "      <td>...</td>\n",
              "      <td>...</td>\n",
              "      <td>...</td>\n",
              "      <td>...</td>\n",
              "    </tr>\n",
              "    <tr>\n",
              "      <th>420</th>\n",
              "      <td>1790</td>\n",
              "      <td>873.0</td>\n",
              "      <td>7</td>\n",
              "      <td>5</td>\n",
              "      <td>193004</td>\n",
              "      <td>211755.243385</td>\n",
              "    </tr>\n",
              "    <tr>\n",
              "      <th>1338</th>\n",
              "      <td>2622</td>\n",
              "      <td>1463.0</td>\n",
              "      <td>8</td>\n",
              "      <td>5</td>\n",
              "      <td>325002</td>\n",
              "      <td>301982.291922</td>\n",
              "    </tr>\n",
              "    <tr>\n",
              "      <th>542</th>\n",
              "      <td>1342</td>\n",
              "      <td>1372.0</td>\n",
              "      <td>6</td>\n",
              "      <td>5</td>\n",
              "      <td>161502</td>\n",
              "      <td>177814.080182</td>\n",
              "    </tr>\n",
              "    <tr>\n",
              "      <th>311</th>\n",
              "      <td>1663</td>\n",
              "      <td>1364.0</td>\n",
              "      <td>4</td>\n",
              "      <td>6</td>\n",
              "      <td>256002</td>\n",
              "      <td>136460.539585</td>\n",
              "    </tr>\n",
              "    <tr>\n",
              "      <th>887</th>\n",
              "      <td>1442</td>\n",
              "      <td>1442.0</td>\n",
              "      <td>6</td>\n",
              "      <td>6</td>\n",
              "      <td>185001</td>\n",
              "      <td>188003.240929</td>\n",
              "    </tr>\n",
              "  </tbody>\n",
              "</table>\n",
              "<p>285 rows × 6 columns</p>\n",
              "</div>"
            ],
            "text/plain": [
              "       点赞数     转发数  热度指数  文章评级   浏览量真值         浏览量预测值\n",
              "1074  1709   970.0     6     5  130003  181499.180492\n",
              "404   1440  1440.0     4     4  118005  122478.101604\n",
              "1375  1434  1454.0     7     5  189003  214815.847941\n",
              "1317   832   832.0     6     6  105504  137486.350468\n",
              "145    923   876.0     5     5  119501  110710.382414\n",
              "...    ...     ...   ...   ...     ...            ...\n",
              "420   1790   873.0     7     5  193004  211755.243385\n",
              "1338  2622  1463.0     8     5  325002  301982.291922\n",
              "542   1342  1372.0     6     5  161502  177814.080182\n",
              "311   1663  1364.0     4     6  256002  136460.539585\n",
              "887   1442  1442.0     6     6  185001  188003.240929\n",
              "\n",
              "[285 rows x 6 columns]"
            ]
          },
          "metadata": {},
          "execution_count": 79
        }
      ]
    },
    {
      "cell_type": "code",
      "metadata": {
        "colab": {
          "base_uri": "https://localhost:8080/"
        },
        "id": "CksnBQaijtCx",
        "outputId": "665e84c6-002c-4170-a863-284e8b349ef2"
      },
      "source": [
        "print('当前模型的4个特征的权重分别是: ', linereg_model.coef_)\n",
        "print('当前模型的截距（偏置）是: ', linereg_model.intercept_)"
      ],
      "execution_count": 80,
      "outputs": [
        {
          "output_type": "stream",
          "name": "stdout",
          "text": [
            "当前模型的4个特征的权重分别是:  [   48.08395224    34.73062229 29730.13312489  2949.62196343]\n",
            "当前模型的截距（偏置）是:  -127493.90606857184\n"
          ]
        }
      ]
    },
    {
      "cell_type": "code",
      "metadata": {
        "colab": {
          "base_uri": "https://localhost:8080/"
        },
        "id": "U_GR5UDLknP9",
        "outputId": "263a5228-d59f-4b91-f4db-0b453546454f"
      },
      "source": [
        "print(\"线性回归预测评分：\", linereg_model.score(X_test, y_test))\n",
        "print(\"线性回归训练评分：\", linereg_model.score(X_train, y_train))"
      ],
      "execution_count": 81,
      "outputs": [
        {
          "output_type": "stream",
          "name": "stdout",
          "text": [
            "线性回归预测评分： 0.740552064611524\n",
            "线性回归训练评分： 0.7422107889561248\n"
          ]
        }
      ]
    },
    {
      "cell_type": "code",
      "metadata": {
        "colab": {
          "base_uri": "https://localhost:8080/"
        },
        "id": "fWIO7_gKmGLB",
        "outputId": "951f6290-be6e-485d-ff3a-458c5ef24373"
      },
      "source": [
        "# fit_intercept = True, normalize = True\n",
        "linereg_model = LinearRegression(fit_intercept=True, normalize=True)\n",
        "linereg_model.fit(X_train, y_train)\n",
        "y_pred = linereg_model.predict(X_test)\n",
        "df_ads_pred = X_test.copy()\n",
        "df_ads_pred['浏览量真值'] = y_test\n",
        "df_ads_pred['浏览量预测值'] = y_pred\n",
        "print(df_ads_pred)\n",
        "print('当前模型的4个特征的权重分别是: ', linereg_model.coef_)\n",
        "print('当前模型的截距（偏置）是: ', linereg_model.intercept_)\n",
        "print(\"线性回归预测评分：\", linereg_model.score(X_test, y_test))\n",
        "print(\"线性回归训练评分：\", linereg_model.score(X_train, y_train))"
      ],
      "execution_count": 82,
      "outputs": [
        {
          "output_type": "stream",
          "name": "stdout",
          "text": [
            "       点赞数     转发数  热度指数  文章评级   浏览量真值         浏览量预测值\n",
            "1074  1709   970.0     6     5  130003  181499.180492\n",
            "404   1440  1440.0     4     4  118005  122478.101604\n",
            "1375  1434  1454.0     7     5  189003  214815.847941\n",
            "1317   832   832.0     6     6  105504  137486.350468\n",
            "145    923   876.0     5     5  119501  110710.382414\n",
            "...    ...     ...   ...   ...     ...            ...\n",
            "420   1790   873.0     7     5  193004  211755.243385\n",
            "1338  2622  1463.0     8     5  325002  301982.291922\n",
            "542   1342  1372.0     6     5  161502  177814.080182\n",
            "311   1663  1364.0     4     6  256002  136460.539585\n",
            "887   1442  1442.0     6     6  185001  188003.240929\n",
            "\n",
            "[285 rows x 6 columns]\n",
            "当前模型的4个特征的权重分别是:  [   48.08395224    34.73062229 29730.13312489  2949.62196343]\n",
            "当前模型的截距（偏置）是:  -127493.9060685719\n",
            "线性回归预测评分： 0.7405520646115241\n",
            "线性回归训练评分： 0.7422107889561248\n"
          ]
        }
      ]
    },
    {
      "cell_type": "code",
      "metadata": {
        "colab": {
          "base_uri": "https://localhost:8080/"
        },
        "id": "E787MFuHm22Y",
        "outputId": "3d947b7b-835f-4f4d-c1fc-5d159d25b7d3"
      },
      "source": [
        "# fit_intercept = False, normalize = False\n",
        "linereg_model = LinearRegression(fit_intercept=False, normalize=False)\n",
        "linereg_model.fit(X_train, y_train)\n",
        "y_pred = linereg_model.predict(X_test)\n",
        "df_ads_pred = X_test.copy()\n",
        "df_ads_pred['浏览量真值'] = y_test\n",
        "df_ads_pred['浏览量预测值'] = y_pred\n",
        "print(df_ads_pred)\n",
        "print('当前模型的4个特征的权重分别是: ', linereg_model.coef_)\n",
        "print('当前模型的截距（偏置）是: ', linereg_model.intercept_)\n",
        "print(\"线性回归预测评分：\", linereg_model.score(X_test, y_test))\n",
        "print(\"线性回归训练评分：\", linereg_model.score(X_train, y_train))"
      ],
      "execution_count": 83,
      "outputs": [
        {
          "output_type": "stream",
          "name": "stdout",
          "text": [
            "       点赞数     转发数  热度指数  文章评级   浏览量真值         浏览量预测值\n",
            "1074  1709   970.0     6     5  130003  193702.527065\n",
            "404   1440  1440.0     4     4  118005  157300.555628\n",
            "1375  1434  1454.0     7     5  189003  214255.179295\n",
            "1317   832   832.0     6     6  105504  137696.015591\n",
            "145    923   876.0     5     5  119501  130575.354141\n",
            "...    ...     ...   ...   ...     ...            ...\n",
            "420   1790   873.0     7     5  193004  217395.104358\n",
            "1338  2622  1463.0     8     5  325002  295067.369412\n",
            "542   1342  1372.0     6     5  161502  185589.181067\n",
            "311   1663  1364.0     4     6  256002  147562.668368\n",
            "887   1442  1442.0     6     6  185001  182828.123188\n",
            "\n",
            "[285 rows x 6 columns]\n",
            "当前模型的4个特征的权重分别是:  [   49.22775653    24.7593051  22106.78160819 -9416.98488967]\n",
            "当前模型的截距（偏置）是:  0.0\n",
            "线性回归预测评分： 0.689427235535854\n",
            "线性回归训练评分： 0.6947857687516026\n"
          ]
        }
      ]
    },
    {
      "cell_type": "code",
      "metadata": {
        "colab": {
          "base_uri": "https://localhost:8080/"
        },
        "id": "I2jzUSjjm9x6",
        "outputId": "b17e2c4a-ee39-45f8-8179-ee362c36bdd7"
      },
      "source": [
        "# fit_intercept = False, normalize = True\n",
        "linereg_model = LinearRegression(fit_intercept=False, normalize=True)\n",
        "linereg_model.fit(X_train, y_train)\n",
        "y_pred = linereg_model.predict(X_test)\n",
        "df_ads_pred = X_test.copy()\n",
        "df_ads_pred['浏览量真值'] = y_test\n",
        "df_ads_pred['浏览量预测值'] = y_pred\n",
        "print(df_ads_pred)\n",
        "print('当前模型的4个特征的权重分别是: ', linereg_model.coef_)\n",
        "print('当前模型的截距（偏置）是: ', linereg_model.intercept_)\n",
        "print(\"线性回归预测评分：\", linereg_model.score(X_test, y_test))\n",
        "print(\"线性回归训练评分：\", linereg_model.score(X_train, y_train))"
      ],
      "execution_count": 84,
      "outputs": [
        {
          "output_type": "stream",
          "name": "stdout",
          "text": [
            "       点赞数     转发数  热度指数  文章评级   浏览量真值         浏览量预测值\n",
            "1074  1709   970.0     6     5  130003  193702.527065\n",
            "404   1440  1440.0     4     4  118005  157300.555628\n",
            "1375  1434  1454.0     7     5  189003  214255.179295\n",
            "1317   832   832.0     6     6  105504  137696.015591\n",
            "145    923   876.0     5     5  119501  130575.354141\n",
            "...    ...     ...   ...   ...     ...            ...\n",
            "420   1790   873.0     7     5  193004  217395.104358\n",
            "1338  2622  1463.0     8     5  325002  295067.369412\n",
            "542   1342  1372.0     6     5  161502  185589.181067\n",
            "311   1663  1364.0     4     6  256002  147562.668368\n",
            "887   1442  1442.0     6     6  185001  182828.123188\n",
            "\n",
            "[285 rows x 6 columns]\n",
            "当前模型的4个特征的权重分别是:  [   49.22775653    24.7593051  22106.78160819 -9416.98488967]\n",
            "当前模型的截距（偏置）是:  0.0\n",
            "线性回归预测评分： 0.689427235535854\n",
            "线性回归训练评分： 0.6947857687516026\n"
          ]
        }
      ]
    },
    {
      "cell_type": "markdown",
      "metadata": {
        "id": "crUX2NP8IBLW"
      },
      "source": [
        "## 05 | 数据探索：怎样从数据中找到用户的RFM值？"
      ]
    },
    {
      "cell_type": "markdown",
      "metadata": {
        "id": "SavvR8Q2IUcw"
      },
      "source": [
        "### 获客关"
      ]
    },
    {
      "cell_type": "code",
      "metadata": {
        "colab": {
          "base_uri": "https://localhost:8080/"
        },
        "id": "L8uOupGWIQcH",
        "outputId": "6ec4a8b3-3b79-4209-f8e7-d0c63ff0f9af"
      },
      "source": [
        "!wget https://raw.githubusercontent.com/huangjia2019/geektime/main/%E8%8E%B7%E5%AE%A2%E5%85%B305/%E6%98%93%E9%80%9F%E9%B2%9C%E8%8A%B1%E8%AE%A2%E5%8D%95%E8%AE%B0%E5%BD%95.csv"
      ],
      "execution_count": 85,
      "outputs": [
        {
          "output_type": "stream",
          "name": "stdout",
          "text": [
            "--2021-09-07 21:19:57--  https://raw.githubusercontent.com/huangjia2019/geektime/main/%E8%8E%B7%E5%AE%A2%E5%85%B305/%E6%98%93%E9%80%9F%E9%B2%9C%E8%8A%B1%E8%AE%A2%E5%8D%95%E8%AE%B0%E5%BD%95.csv\n",
            "Resolving raw.githubusercontent.com (raw.githubusercontent.com)... 185.199.108.133, 185.199.110.133, 185.199.109.133, ...\n",
            "Connecting to raw.githubusercontent.com (raw.githubusercontent.com)|185.199.108.133|:443... connected.\n",
            "HTTP request sent, awaiting response... 200 OK\n",
            "Length: 6036221 (5.8M) [text/plain]\n",
            "Saving to: ‘易速鲜花订单记录.csv’\n",
            "\n",
            "易速鲜花订单记录.cs 100%[===================>]   5.76M  --.-KB/s    in 0.1s    \n",
            "\n",
            "2021-09-07 21:19:58 (57.5 MB/s) - ‘易速鲜花订单记录.csv’ saved [6036221/6036221]\n",
            "\n"
          ]
        }
      ]
    },
    {
      "cell_type": "markdown",
      "metadata": {
        "id": "6qFzx6k6IySV"
      },
      "source": [
        "用户的消费行为本身是不能直接用于数据分析的，这就需要我们把用户的行为转化成具体数值，也就是可量化的指标----**RFM**\n",
        "\n",
        "* Recency: 交易时间，指用户最近一次交易至今的时间，这个指标其实就是用户的热乎度\n",
        "* Frequency: 交易频率，指某一时间单位内客户交易的次数，这也是用户黏性的风向标\n",
        "* Monetary: 交易金额，指某一时间单位内用户交易的总金额"
      ]
    },
    {
      "cell_type": "markdown",
      "metadata": {
        "id": "0l6sXVPmL7gK"
      },
      "source": [
        "#### 数据预处理"
      ]
    },
    {
      "cell_type": "code",
      "metadata": {
        "colab": {
          "base_uri": "https://localhost:8080/",
          "height": 204
        },
        "id": "a3qvCqkXIecM",
        "outputId": "f17bc34d-63b8-42a4-dbd2-6b447113f8c3"
      },
      "source": [
        "import pandas as pd\n",
        "\n",
        "df_sales = pd.read_csv('/content/易速鲜花订单记录.csv')\n",
        "df_sales.head()"
      ],
      "execution_count": 86,
      "outputs": [
        {
          "output_type": "execute_result",
          "data": {
            "text/html": [
              "<div>\n",
              "<style scoped>\n",
              "    .dataframe tbody tr th:only-of-type {\n",
              "        vertical-align: middle;\n",
              "    }\n",
              "\n",
              "    .dataframe tbody tr th {\n",
              "        vertical-align: top;\n",
              "    }\n",
              "\n",
              "    .dataframe thead th {\n",
              "        text-align: right;\n",
              "    }\n",
              "</style>\n",
              "<table border=\"1\" class=\"dataframe\">\n",
              "  <thead>\n",
              "    <tr style=\"text-align: right;\">\n",
              "      <th></th>\n",
              "      <th>订单号</th>\n",
              "      <th>产品码</th>\n",
              "      <th>消费日期</th>\n",
              "      <th>产品说明</th>\n",
              "      <th>数量</th>\n",
              "      <th>单价</th>\n",
              "      <th>用户码</th>\n",
              "      <th>城市</th>\n",
              "    </tr>\n",
              "  </thead>\n",
              "  <tbody>\n",
              "    <tr>\n",
              "      <th>0</th>\n",
              "      <td>536374</td>\n",
              "      <td>21258</td>\n",
              "      <td>6/1/2020 9:09</td>\n",
              "      <td>五彩玫瑰五支装</td>\n",
              "      <td>32</td>\n",
              "      <td>10.95</td>\n",
              "      <td>15100</td>\n",
              "      <td>北京</td>\n",
              "    </tr>\n",
              "    <tr>\n",
              "      <th>1</th>\n",
              "      <td>536376</td>\n",
              "      <td>22114</td>\n",
              "      <td>6/1/2020 9:32</td>\n",
              "      <td>茉莉花白色25枝</td>\n",
              "      <td>48</td>\n",
              "      <td>3.45</td>\n",
              "      <td>15291</td>\n",
              "      <td>上海</td>\n",
              "    </tr>\n",
              "    <tr>\n",
              "      <th>2</th>\n",
              "      <td>536376</td>\n",
              "      <td>21733</td>\n",
              "      <td>6/1/2020 9:32</td>\n",
              "      <td>教师节向日葵3枝尤加利5枝</td>\n",
              "      <td>64</td>\n",
              "      <td>2.55</td>\n",
              "      <td>15291</td>\n",
              "      <td>上海</td>\n",
              "    </tr>\n",
              "    <tr>\n",
              "      <th>3</th>\n",
              "      <td>536378</td>\n",
              "      <td>22386</td>\n",
              "      <td>6/1/2020 9:37</td>\n",
              "      <td>百合粉色10花苞</td>\n",
              "      <td>10</td>\n",
              "      <td>1.95</td>\n",
              "      <td>14688</td>\n",
              "      <td>北京</td>\n",
              "    </tr>\n",
              "    <tr>\n",
              "      <th>4</th>\n",
              "      <td>536378</td>\n",
              "      <td>85099C</td>\n",
              "      <td>6/1/2020 9:37</td>\n",
              "      <td>橙黄香槟色康乃馨</td>\n",
              "      <td>10</td>\n",
              "      <td>1.95</td>\n",
              "      <td>14688</td>\n",
              "      <td>北京</td>\n",
              "    </tr>\n",
              "  </tbody>\n",
              "</table>\n",
              "</div>"
            ],
            "text/plain": [
              "      订单号     产品码           消费日期           产品说明  数量     单价    用户码  城市\n",
              "0  536374   21258  6/1/2020 9:09        五彩玫瑰五支装  32  10.95  15100  北京\n",
              "1  536376   22114  6/1/2020 9:32       茉莉花白色25枝  48   3.45  15291  上海\n",
              "2  536376   21733  6/1/2020 9:32  教师节向日葵3枝尤加利5枝  64   2.55  15291  上海\n",
              "3  536378   22386  6/1/2020 9:37       百合粉色10花苞  10   1.95  14688  北京\n",
              "4  536378  85099C  6/1/2020 9:37       橙黄香槟色康乃馨  10   1.95  14688  北京"
            ]
          },
          "metadata": {},
          "execution_count": 86
        }
      ]
    },
    {
      "cell_type": "markdown",
      "metadata": {
        "id": "kQg1zIFXM71X"
      },
      "source": [
        "#### 数据可视化"
      ]
    },
    {
      "cell_type": "code",
      "metadata": {
        "colab": {
          "base_uri": "https://localhost:8080/",
          "height": 694
        },
        "id": "6ATaWG70MxOd",
        "outputId": "c7541a6e-81d6-4f37-d938-e1d585b26ff0"
      },
      "source": [
        "import matplotlib.pyplot as plt #导入Matplotlib的pyplot模块\n",
        "#构建月度的订单数的DataFrame\n",
        "df_sales['消费日期'] = pd.to_datetime(df_sales['消费日期']) #转化日期格式\n",
        "df_orders_monthly = df_sales.set_index('消费日期')['订单号'].resample('M').nunique() #每个月的订单数量\n",
        "print(df_orders_monthly)\n",
        "#设定绘图的画布\n",
        "ax = pd.DataFrame(df_orders_monthly.values).plot(grid=True,figsize=(12,6),legend=False)\n",
        "ax.set_xlabel('月份',fontproperties=myfont) # X轴label\n",
        "ax.set_ylabel('订单数',fontproperties=myfont) # Y轴Label\n",
        "ax.set_title('月度订单数',fontproperties=myfont) # 图题\n",
        "#设定X轴月份显示格式\n",
        "plt.xticks(\n",
        "    range(len(df_orders_monthly.index)), \n",
        "    [x.strftime('%m.%Y') for x in df_orders_monthly.index], \n",
        "    rotation=45)\n",
        "plt.show() # 绘图"
      ],
      "execution_count": 94,
      "outputs": [
        {
          "output_type": "stream",
          "name": "stdout",
          "text": [
            "消费日期\n",
            "2020-06-30    398\n",
            "2020-07-31    252\n",
            "2020-08-31    271\n",
            "2020-09-30    337\n",
            "2020-10-31    272\n",
            "2020-11-30    373\n",
            "2020-12-31    383\n",
            "2021-01-31    321\n",
            "2021-02-28    296\n",
            "2021-03-31    436\n",
            "2021-04-30    472\n",
            "2021-05-31    665\n",
            "2021-06-30    181\n",
            "Freq: M, Name: 订单号, dtype: int64\n"
          ]
        },
        {
          "output_type": "display_data",
          "data": {
            "image/png": "[encoded data removed]",
            "text/plain": [
              "<Figure size 864x432 with 1 Axes>"
            ]
          },
          "metadata": {}
        }
      ]
    },
    {
      "cell_type": "markdown",
      "metadata": {
        "id": "o8CMspnLUUS_"
      },
      "source": [
        "#### 数据清洗"
      ]
    },
    {
      "cell_type": "code",
      "metadata": {
        "id": "HNXFXoUHUT52"
      },
      "source": [
        "df_sales = df_sales.drop_duplicates() #删除重复的数据行"
      ],
      "execution_count": 95,
      "outputs": []
    },
    {
      "cell_type": "code",
      "metadata": {
        "colab": {
          "base_uri": "https://localhost:8080/"
        },
        "id": "YCNcXfDZUqTU",
        "outputId": "8c67ce9b-3065-4f0b-8788-4d41cda6b892"
      },
      "source": [
        "df_sales.isna().sum()"
      ],
      "execution_count": 97,
      "outputs": [
        {
          "output_type": "execute_result",
          "data": {
            "text/plain": [
              "订单号     0\n",
              "产品码     0\n",
              "消费日期    0\n",
              "产品说明    0\n",
              "数量      0\n",
              "单价      0\n",
              "用户码     0\n",
              "城市      0\n",
              "dtype: int64"
            ]
          },
          "metadata": {},
          "execution_count": 97
        }
      ]
    },
    {
      "cell_type": "code",
      "metadata": {
        "colab": {
          "base_uri": "https://localhost:8080/",
          "height": 297
        },
        "id": "fzKN7Kt6Uufr",
        "outputId": "ec039aa1-aa47-4c8e-e62e-3c9ab5b754d7"
      },
      "source": [
        "df_sales.describe()"
      ],
      "execution_count": 98,
      "outputs": [
        {
          "output_type": "execute_result",
          "data": {
            "text/html": [
              "<div>\n",
              "<style scoped>\n",
              "    .dataframe tbody tr th:only-of-type {\n",
              "        vertical-align: middle;\n",
              "    }\n",
              "\n",
              "    .dataframe tbody tr th {\n",
              "        vertical-align: top;\n",
              "    }\n",
              "\n",
              "    .dataframe thead th {\n",
              "        text-align: right;\n",
              "    }\n",
              "</style>\n",
              "<table border=\"1\" class=\"dataframe\">\n",
              "  <thead>\n",
              "    <tr style=\"text-align: right;\">\n",
              "      <th></th>\n",
              "      <th>数量</th>\n",
              "      <th>单价</th>\n",
              "      <th>用户码</th>\n",
              "    </tr>\n",
              "  </thead>\n",
              "  <tbody>\n",
              "    <tr>\n",
              "      <th>count</th>\n",
              "      <td>85920.000000</td>\n",
              "      <td>85920.000000</td>\n",
              "      <td>85920.000000</td>\n",
              "    </tr>\n",
              "    <tr>\n",
              "      <th>mean</th>\n",
              "      <td>10.115747</td>\n",
              "      <td>3.599711</td>\n",
              "      <td>15338.080389</td>\n",
              "    </tr>\n",
              "    <tr>\n",
              "      <th>std</th>\n",
              "      <td>49.114285</td>\n",
              "      <td>134.410498</td>\n",
              "      <td>391.309086</td>\n",
              "    </tr>\n",
              "    <tr>\n",
              "      <th>min</th>\n",
              "      <td>-9360.000000</td>\n",
              "      <td>0.000000</td>\n",
              "      <td>14681.000000</td>\n",
              "    </tr>\n",
              "    <tr>\n",
              "      <th>25%</th>\n",
              "      <td>2.000000</td>\n",
              "      <td>1.250000</td>\n",
              "      <td>15022.000000</td>\n",
              "    </tr>\n",
              "    <tr>\n",
              "      <th>50%</th>\n",
              "      <td>4.000000</td>\n",
              "      <td>1.950000</td>\n",
              "      <td>15334.000000</td>\n",
              "    </tr>\n",
              "    <tr>\n",
              "      <th>75%</th>\n",
              "      <td>12.000000</td>\n",
              "      <td>3.750000</td>\n",
              "      <td>15673.000000</td>\n",
              "    </tr>\n",
              "    <tr>\n",
              "      <th>max</th>\n",
              "      <td>3114.000000</td>\n",
              "      <td>38970.000000</td>\n",
              "      <td>16019.000000</td>\n",
              "    </tr>\n",
              "  </tbody>\n",
              "</table>\n",
              "</div>"
            ],
            "text/plain": [
              "                 数量            单价           用户码\n",
              "count  85920.000000  85920.000000  85920.000000\n",
              "mean      10.115747      3.599711  15338.080389\n",
              "std       49.114285    134.410498    391.309086\n",
              "min    -9360.000000      0.000000  14681.000000\n",
              "25%        2.000000      1.250000  15022.000000\n",
              "50%        4.000000      1.950000  15334.000000\n",
              "75%       12.000000      3.750000  15673.000000\n",
              "max     3114.000000  38970.000000  16019.000000"
            ]
          },
          "metadata": {},
          "execution_count": 98
        }
      ]
    },
    {
      "cell_type": "code",
      "metadata": {
        "id": "iC-ZGvrIVqa7"
      },
      "source": [
        "df_sales = df_sales.loc[df_sales['数量'] > 0]"
      ],
      "execution_count": 100,
      "outputs": []
    },
    {
      "cell_type": "code",
      "metadata": {
        "colab": {
          "base_uri": "https://localhost:8080/",
          "height": 297
        },
        "id": "lNxw4LeEWW_I",
        "outputId": "6f73e20e-9e83-4dbe-e74d-199651362147"
      },
      "source": [
        "df_sales.describe()"
      ],
      "execution_count": 101,
      "outputs": [
        {
          "output_type": "execute_result",
          "data": {
            "text/html": [
              "<div>\n",
              "<style scoped>\n",
              "    .dataframe tbody tr th:only-of-type {\n",
              "        vertical-align: middle;\n",
              "    }\n",
              "\n",
              "    .dataframe tbody tr th {\n",
              "        vertical-align: top;\n",
              "    }\n",
              "\n",
              "    .dataframe thead th {\n",
              "        text-align: right;\n",
              "    }\n",
              "</style>\n",
              "<table border=\"1\" class=\"dataframe\">\n",
              "  <thead>\n",
              "    <tr style=\"text-align: right;\">\n",
              "      <th></th>\n",
              "      <th>数量</th>\n",
              "      <th>单价</th>\n",
              "      <th>用户码</th>\n",
              "    </tr>\n",
              "  </thead>\n",
              "  <tbody>\n",
              "    <tr>\n",
              "      <th>count</th>\n",
              "      <td>84112.000000</td>\n",
              "      <td>84112.000000</td>\n",
              "      <td>84112.000000</td>\n",
              "    </tr>\n",
              "    <tr>\n",
              "      <th>mean</th>\n",
              "      <td>10.760236</td>\n",
              "      <td>3.005032</td>\n",
              "      <td>15337.732963</td>\n",
              "    </tr>\n",
              "    <tr>\n",
              "      <th>std</th>\n",
              "      <td>34.018906</td>\n",
              "      <td>15.365085</td>\n",
              "      <td>392.074855</td>\n",
              "    </tr>\n",
              "    <tr>\n",
              "      <th>min</th>\n",
              "      <td>1.000000</td>\n",
              "      <td>0.000000</td>\n",
              "      <td>14681.000000</td>\n",
              "    </tr>\n",
              "    <tr>\n",
              "      <th>25%</th>\n",
              "      <td>2.000000</td>\n",
              "      <td>1.250000</td>\n",
              "      <td>15021.000000</td>\n",
              "    </tr>\n",
              "    <tr>\n",
              "      <th>50%</th>\n",
              "      <td>5.000000</td>\n",
              "      <td>1.950000</td>\n",
              "      <td>15333.000000</td>\n",
              "    </tr>\n",
              "    <tr>\n",
              "      <th>75%</th>\n",
              "      <td>12.000000</td>\n",
              "      <td>3.750000</td>\n",
              "      <td>15674.000000</td>\n",
              "    </tr>\n",
              "    <tr>\n",
              "      <th>max</th>\n",
              "      <td>3114.000000</td>\n",
              "      <td>3155.950000</td>\n",
              "      <td>16019.000000</td>\n",
              "    </tr>\n",
              "  </tbody>\n",
              "</table>\n",
              "</div>"
            ],
            "text/plain": [
              "                 数量            单价           用户码\n",
              "count  84112.000000  84112.000000  84112.000000\n",
              "mean      10.760236      3.005032  15337.732963\n",
              "std       34.018906     15.365085    392.074855\n",
              "min        1.000000      0.000000  14681.000000\n",
              "25%        2.000000      1.250000  15021.000000\n",
              "50%        5.000000      1.950000  15333.000000\n",
              "75%       12.000000      3.750000  15674.000000\n",
              "max     3114.000000   3155.950000  16019.000000"
            ]
          },
          "metadata": {},
          "execution_count": 101
        }
      ]
    },
    {
      "cell_type": "markdown",
      "metadata": {
        "id": "UTvtPOIJWcjz"
      },
      "source": [
        "#### 求RFM值"
      ]
    },
    {
      "cell_type": "code",
      "metadata": {
        "colab": {
          "base_uri": "https://localhost:8080/",
          "height": 340
        },
        "id": "PXUbLDXOWgRH",
        "outputId": "d4c11e93-54f8-4bb6-c9d3-59089e3eb1c4"
      },
      "source": [
        "df_sales['总价'] = df_sales['数量'] * df_sales['单价'] #计算每单的总价\n",
        "df_sales.head() #显示头几行数据       "
      ],
      "execution_count": 102,
      "outputs": [
        {
          "output_type": "stream",
          "name": "stderr",
          "text": [
            "/usr/local/lib/python3.7/dist-packages/ipykernel_launcher.py:1: SettingWithCopyWarning:\n",
            "\n",
            "\n",
            "A value is trying to be set on a copy of a slice from a DataFrame.\n",
            "Try using .loc[row_indexer,col_indexer] = value instead\n",
            "\n",
            "See the caveats in the documentation: https://pandas.pydata.org/pandas-docs/stable/user_guide/indexing.html#returning-a-view-versus-a-copy\n",
            "\n"
          ]
        },
        {
          "output_type": "execute_result",
          "data": {
            "text/html": [
              "<div>\n",
              "<style scoped>\n",
              "    .dataframe tbody tr th:only-of-type {\n",
              "        vertical-align: middle;\n",
              "    }\n",
              "\n",
              "    .dataframe tbody tr th {\n",
              "        vertical-align: top;\n",
              "    }\n",
              "\n",
              "    .dataframe thead th {\n",
              "        text-align: right;\n",
              "    }\n",
              "</style>\n",
              "<table border=\"1\" class=\"dataframe\">\n",
              "  <thead>\n",
              "    <tr style=\"text-align: right;\">\n",
              "      <th></th>\n",
              "      <th>订单号</th>\n",
              "      <th>产品码</th>\n",
              "      <th>消费日期</th>\n",
              "      <th>产品说明</th>\n",
              "      <th>数量</th>\n",
              "      <th>单价</th>\n",
              "      <th>用户码</th>\n",
              "      <th>城市</th>\n",
              "      <th>总价</th>\n",
              "    </tr>\n",
              "  </thead>\n",
              "  <tbody>\n",
              "    <tr>\n",
              "      <th>0</th>\n",
              "      <td>536374</td>\n",
              "      <td>21258</td>\n",
              "      <td>2020-06-01 09:09:00</td>\n",
              "      <td>五彩玫瑰五支装</td>\n",
              "      <td>32</td>\n",
              "      <td>10.95</td>\n",
              "      <td>15100</td>\n",
              "      <td>北京</td>\n",
              "      <td>350.4</td>\n",
              "    </tr>\n",
              "    <tr>\n",
              "      <th>1</th>\n",
              "      <td>536376</td>\n",
              "      <td>22114</td>\n",
              "      <td>2020-06-01 09:32:00</td>\n",
              "      <td>茉莉花白色25枝</td>\n",
              "      <td>48</td>\n",
              "      <td>3.45</td>\n",
              "      <td>15291</td>\n",
              "      <td>上海</td>\n",
              "      <td>165.6</td>\n",
              "    </tr>\n",
              "    <tr>\n",
              "      <th>2</th>\n",
              "      <td>536376</td>\n",
              "      <td>21733</td>\n",
              "      <td>2020-06-01 09:32:00</td>\n",
              "      <td>教师节向日葵3枝尤加利5枝</td>\n",
              "      <td>64</td>\n",
              "      <td>2.55</td>\n",
              "      <td>15291</td>\n",
              "      <td>上海</td>\n",
              "      <td>163.2</td>\n",
              "    </tr>\n",
              "    <tr>\n",
              "      <th>3</th>\n",
              "      <td>536378</td>\n",
              "      <td>22386</td>\n",
              "      <td>2020-06-01 09:37:00</td>\n",
              "      <td>百合粉色10花苞</td>\n",
              "      <td>10</td>\n",
              "      <td>1.95</td>\n",
              "      <td>14688</td>\n",
              "      <td>北京</td>\n",
              "      <td>19.5</td>\n",
              "    </tr>\n",
              "    <tr>\n",
              "      <th>4</th>\n",
              "      <td>536378</td>\n",
              "      <td>85099C</td>\n",
              "      <td>2020-06-01 09:37:00</td>\n",
              "      <td>橙黄香槟色康乃馨</td>\n",
              "      <td>10</td>\n",
              "      <td>1.95</td>\n",
              "      <td>14688</td>\n",
              "      <td>北京</td>\n",
              "      <td>19.5</td>\n",
              "    </tr>\n",
              "  </tbody>\n",
              "</table>\n",
              "</div>"
            ],
            "text/plain": [
              "      订单号     产品码                消费日期           产品说明  ...     单价    用户码  城市     总价\n",
              "0  536374   21258 2020-06-01 09:09:00        五彩玫瑰五支装  ...  10.95  15100  北京  350.4\n",
              "1  536376   22114 2020-06-01 09:32:00       茉莉花白色25枝  ...   3.45  15291  上海  165.6\n",
              "2  536376   21733 2020-06-01 09:32:00  教师节向日葵3枝尤加利5枝  ...   2.55  15291  上海  163.2\n",
              "3  536378   22386 2020-06-01 09:37:00       百合粉色10花苞  ...   1.95  14688  北京   19.5\n",
              "4  536378  85099C 2020-06-01 09:37:00       橙黄香槟色康乃馨  ...   1.95  14688  北京   19.5\n",
              "\n",
              "[5 rows x 9 columns]"
            ]
          },
          "metadata": {},
          "execution_count": 102
        }
      ]
    },
    {
      "cell_type": "markdown",
      "metadata": {
        "id": "BccrgYltXiNO"
      },
      "source": [
        "* 一个用户上一次购物的日期，也就是最新的消费日期，就可以转化成这个用户的 R 值；\n",
        "* 一个用户下的所有订单次数之和，就是消费频率值，也就是该用户的 F 值；\n",
        "* 把一个用户所有订单的总价加起来，就是消费金额值，也就是该用户的 M 值。"
      ]
    },
    {
      "cell_type": "markdown",
      "metadata": {
        "id": "P1u9W_w3YnZ9"
      },
      "source": [
        "#### 构建用户层级表"
      ]
    },
    {
      "cell_type": "code",
      "metadata": {
        "colab": {
          "base_uri": "https://localhost:8080/",
          "height": 419
        },
        "id": "x_l14tZ1YAZx",
        "outputId": "080be9f9-5d50-4116-defb-9ec04ba4e5c0"
      },
      "source": [
        "df_user = pd.DataFrame(df_sales['用户码'].unique()) #生成以用户码为主键的结构df_user\n",
        "df_user.columns = ['用户码'] #设定字段名\n",
        "df_user = df_user.sort_values(by='用户码',ascending=True).reset_index(drop=True) #按用户码排序\n",
        "df_user #显示df_user"
      ],
      "execution_count": 123,
      "outputs": [
        {
          "output_type": "execute_result",
          "data": {
            "text/html": [
              "<div>\n",
              "<style scoped>\n",
              "    .dataframe tbody tr th:only-of-type {\n",
              "        vertical-align: middle;\n",
              "    }\n",
              "\n",
              "    .dataframe tbody tr th {\n",
              "        vertical-align: top;\n",
              "    }\n",
              "\n",
              "    .dataframe thead th {\n",
              "        text-align: right;\n",
              "    }\n",
              "</style>\n",
              "<table border=\"1\" class=\"dataframe\">\n",
              "  <thead>\n",
              "    <tr style=\"text-align: right;\">\n",
              "      <th></th>\n",
              "      <th>用户码</th>\n",
              "    </tr>\n",
              "  </thead>\n",
              "  <tbody>\n",
              "    <tr>\n",
              "      <th>0</th>\n",
              "      <td>14681</td>\n",
              "    </tr>\n",
              "    <tr>\n",
              "      <th>1</th>\n",
              "      <td>14682</td>\n",
              "    </tr>\n",
              "    <tr>\n",
              "      <th>2</th>\n",
              "      <td>14684</td>\n",
              "    </tr>\n",
              "    <tr>\n",
              "      <th>3</th>\n",
              "      <td>14687</td>\n",
              "    </tr>\n",
              "    <tr>\n",
              "      <th>4</th>\n",
              "      <td>14688</td>\n",
              "    </tr>\n",
              "    <tr>\n",
              "      <th>...</th>\n",
              "      <td>...</td>\n",
              "    </tr>\n",
              "    <tr>\n",
              "      <th>975</th>\n",
              "      <td>16015</td>\n",
              "    </tr>\n",
              "    <tr>\n",
              "      <th>976</th>\n",
              "      <td>16016</td>\n",
              "    </tr>\n",
              "    <tr>\n",
              "      <th>977</th>\n",
              "      <td>16017</td>\n",
              "    </tr>\n",
              "    <tr>\n",
              "      <th>978</th>\n",
              "      <td>16018</td>\n",
              "    </tr>\n",
              "    <tr>\n",
              "      <th>979</th>\n",
              "      <td>16019</td>\n",
              "    </tr>\n",
              "  </tbody>\n",
              "</table>\n",
              "<p>980 rows × 1 columns</p>\n",
              "</div>"
            ],
            "text/plain": [
              "       用户码\n",
              "0    14681\n",
              "1    14682\n",
              "2    14684\n",
              "3    14687\n",
              "4    14688\n",
              "..     ...\n",
              "975  16015\n",
              "976  16016\n",
              "977  16017\n",
              "978  16018\n",
              "979  16019\n",
              "\n",
              "[980 rows x 1 columns]"
            ]
          },
          "metadata": {},
          "execution_count": 123
        }
      ]
    },
    {
      "cell_type": "markdown",
      "metadata": {
        "id": "hcspE5OYYrq4"
      },
      "source": [
        "#### 求出R值"
      ]
    },
    {
      "cell_type": "code",
      "metadata": {
        "colab": {
          "base_uri": "https://localhost:8080/",
          "height": 357
        },
        "id": "mxfs_YhhYyfF",
        "outputId": "6780f994-420a-4ef3-b793-4d30dff125f5"
      },
      "source": [
        "df_sales['消费日期'] = pd.to_datetime(df_sales['消费日期']) #转化日期格式\n",
        "df_recent_buy = df_sales.groupby('用户码').消费日期.max().reset_index() #构建消费日期信息\n",
        "df_recent_buy.columns = ['用户码','最近日期'] #设定字段名\n",
        "df_recent_buy['R值'] = (df_recent_buy['最近日期'].max() - df_recent_buy['最近日期']).dt.days #计算最新日期与上次消费日期的天数\n",
        "print(df_recent_buy['最近日期'].max())\n",
        "df_user = pd.merge(df_user, df_recent_buy[['用户码','R值']], on='用户码') #把上次消费距最新日期的天数（R值）合并至df_user结构\n",
        "df_user.head() #显示df_user头几行数据"
      ],
      "execution_count": 124,
      "outputs": [
        {
          "output_type": "stream",
          "name": "stdout",
          "text": [
            "2021-06-09 12:31:00\n"
          ]
        },
        {
          "output_type": "stream",
          "name": "stderr",
          "text": [
            "/usr/local/lib/python3.7/dist-packages/ipykernel_launcher.py:1: SettingWithCopyWarning:\n",
            "\n",
            "\n",
            "A value is trying to be set on a copy of a slice from a DataFrame.\n",
            "Try using .loc[row_indexer,col_indexer] = value instead\n",
            "\n",
            "See the caveats in the documentation: https://pandas.pydata.org/pandas-docs/stable/user_guide/indexing.html#returning-a-view-versus-a-copy\n",
            "\n"
          ]
        },
        {
          "output_type": "execute_result",
          "data": {
            "text/html": [
              "<div>\n",
              "<style scoped>\n",
              "    .dataframe tbody tr th:only-of-type {\n",
              "        vertical-align: middle;\n",
              "    }\n",
              "\n",
              "    .dataframe tbody tr th {\n",
              "        vertical-align: top;\n",
              "    }\n",
              "\n",
              "    .dataframe thead th {\n",
              "        text-align: right;\n",
              "    }\n",
              "</style>\n",
              "<table border=\"1\" class=\"dataframe\">\n",
              "  <thead>\n",
              "    <tr style=\"text-align: right;\">\n",
              "      <th></th>\n",
              "      <th>用户码</th>\n",
              "      <th>R值</th>\n",
              "    </tr>\n",
              "  </thead>\n",
              "  <tbody>\n",
              "    <tr>\n",
              "      <th>0</th>\n",
              "      <td>14681</td>\n",
              "      <td>70</td>\n",
              "    </tr>\n",
              "    <tr>\n",
              "      <th>1</th>\n",
              "      <td>14682</td>\n",
              "      <td>187</td>\n",
              "    </tr>\n",
              "    <tr>\n",
              "      <th>2</th>\n",
              "      <td>14684</td>\n",
              "      <td>25</td>\n",
              "    </tr>\n",
              "    <tr>\n",
              "      <th>3</th>\n",
              "      <td>14687</td>\n",
              "      <td>106</td>\n",
              "    </tr>\n",
              "    <tr>\n",
              "      <th>4</th>\n",
              "      <td>14688</td>\n",
              "      <td>7</td>\n",
              "    </tr>\n",
              "  </tbody>\n",
              "</table>\n",
              "</div>"
            ],
            "text/plain": [
              "     用户码   R值\n",
              "0  14681   70\n",
              "1  14682  187\n",
              "2  14684   25\n",
              "3  14687  106\n",
              "4  14688    7"
            ]
          },
          "metadata": {},
          "execution_count": 124
        }
      ]
    },
    {
      "cell_type": "markdown",
      "metadata": {
        "id": "t1Svj6VmcGCr"
      },
      "source": [
        "#### 求出F值"
      ]
    },
    {
      "cell_type": "code",
      "metadata": {
        "colab": {
          "base_uri": "https://localhost:8080/",
          "height": 204
        },
        "id": "1uEb07u2cFnU",
        "outputId": "12dab405-d289-4086-d24b-4abc44f5bded"
      },
      "source": [
        "df_frequency = df_sales.groupby('用户码').消费日期.count().reset_index() #计算每个用户消费次数，构建df_frequency对象\n",
        "df_frequency.columns = ['用户码','F值'] #设定字段名称\n",
        "df_user = pd.merge(df_user, df_frequency, on='用户码') #把消费频率整合至df_user结构\n",
        "df_user.head() #显示头几行数据"
      ],
      "execution_count": 125,
      "outputs": [
        {
          "output_type": "execute_result",
          "data": {
            "text/html": [
              "<div>\n",
              "<style scoped>\n",
              "    .dataframe tbody tr th:only-of-type {\n",
              "        vertical-align: middle;\n",
              "    }\n",
              "\n",
              "    .dataframe tbody tr th {\n",
              "        vertical-align: top;\n",
              "    }\n",
              "\n",
              "    .dataframe thead th {\n",
              "        text-align: right;\n",
              "    }\n",
              "</style>\n",
              "<table border=\"1\" class=\"dataframe\">\n",
              "  <thead>\n",
              "    <tr style=\"text-align: right;\">\n",
              "      <th></th>\n",
              "      <th>用户码</th>\n",
              "      <th>R值</th>\n",
              "      <th>F值</th>\n",
              "    </tr>\n",
              "  </thead>\n",
              "  <tbody>\n",
              "    <tr>\n",
              "      <th>0</th>\n",
              "      <td>14681</td>\n",
              "      <td>70</td>\n",
              "      <td>7</td>\n",
              "    </tr>\n",
              "    <tr>\n",
              "      <th>1</th>\n",
              "      <td>14682</td>\n",
              "      <td>187</td>\n",
              "      <td>2</td>\n",
              "    </tr>\n",
              "    <tr>\n",
              "      <th>2</th>\n",
              "      <td>14684</td>\n",
              "      <td>25</td>\n",
              "      <td>390</td>\n",
              "    </tr>\n",
              "    <tr>\n",
              "      <th>3</th>\n",
              "      <td>14687</td>\n",
              "      <td>106</td>\n",
              "      <td>15</td>\n",
              "    </tr>\n",
              "    <tr>\n",
              "      <th>4</th>\n",
              "      <td>14688</td>\n",
              "      <td>7</td>\n",
              "      <td>324</td>\n",
              "    </tr>\n",
              "  </tbody>\n",
              "</table>\n",
              "</div>"
            ],
            "text/plain": [
              "     用户码   R值   F值\n",
              "0  14681   70    7\n",
              "1  14682  187    2\n",
              "2  14684   25  390\n",
              "3  14687  106   15\n",
              "4  14688    7  324"
            ]
          },
          "metadata": {},
          "execution_count": 125
        }
      ]
    },
    {
      "cell_type": "markdown",
      "metadata": {
        "id": "H1fIWu8ocX8V"
      },
      "source": [
        "#### 求出M值"
      ]
    },
    {
      "cell_type": "code",
      "metadata": {
        "colab": {
          "base_uri": "https://localhost:8080/",
          "height": 204
        },
        "id": "4HCbfS9ycbeO",
        "outputId": "1f99a6ff-6e30-4b1a-8d9b-f65969d5377e"
      },
      "source": [
        "df_revenue = df_sales.groupby('用户码').总价.sum().reset_index() #根据消费总额，构建df_revenue对象\n",
        "df_revenue.columns = ['用户码','M值'] #设定字段名称\n",
        "df_user = pd.merge(df_user, df_revenue, on='用户码') #把消费金额整合至df_user结构\n",
        "df_user.head() #显示头几行数据"
      ],
      "execution_count": 126,
      "outputs": [
        {
          "output_type": "execute_result",
          "data": {
            "text/html": [
              "<div>\n",
              "<style scoped>\n",
              "    .dataframe tbody tr th:only-of-type {\n",
              "        vertical-align: middle;\n",
              "    }\n",
              "\n",
              "    .dataframe tbody tr th {\n",
              "        vertical-align: top;\n",
              "    }\n",
              "\n",
              "    .dataframe thead th {\n",
              "        text-align: right;\n",
              "    }\n",
              "</style>\n",
              "<table border=\"1\" class=\"dataframe\">\n",
              "  <thead>\n",
              "    <tr style=\"text-align: right;\">\n",
              "      <th></th>\n",
              "      <th>用户码</th>\n",
              "      <th>R值</th>\n",
              "      <th>F值</th>\n",
              "      <th>M值</th>\n",
              "    </tr>\n",
              "  </thead>\n",
              "  <tbody>\n",
              "    <tr>\n",
              "      <th>0</th>\n",
              "      <td>14681</td>\n",
              "      <td>70</td>\n",
              "      <td>7</td>\n",
              "      <td>498.95</td>\n",
              "    </tr>\n",
              "    <tr>\n",
              "      <th>1</th>\n",
              "      <td>14682</td>\n",
              "      <td>187</td>\n",
              "      <td>2</td>\n",
              "      <td>52.00</td>\n",
              "    </tr>\n",
              "    <tr>\n",
              "      <th>2</th>\n",
              "      <td>14684</td>\n",
              "      <td>25</td>\n",
              "      <td>390</td>\n",
              "      <td>1201.51</td>\n",
              "    </tr>\n",
              "    <tr>\n",
              "      <th>3</th>\n",
              "      <td>14687</td>\n",
              "      <td>106</td>\n",
              "      <td>15</td>\n",
              "      <td>628.38</td>\n",
              "    </tr>\n",
              "    <tr>\n",
              "      <th>4</th>\n",
              "      <td>14688</td>\n",
              "      <td>7</td>\n",
              "      <td>324</td>\n",
              "      <td>5579.10</td>\n",
              "    </tr>\n",
              "  </tbody>\n",
              "</table>\n",
              "</div>"
            ],
            "text/plain": [
              "     用户码   R值   F值       M值\n",
              "0  14681   70    7   498.95\n",
              "1  14682  187    2    52.00\n",
              "2  14684   25  390  1201.51\n",
              "3  14687  106   15   628.38\n",
              "4  14688    7  324  5579.10"
            ]
          },
          "metadata": {},
          "execution_count": 126
        }
      ]
    },
    {
      "cell_type": "markdown",
      "metadata": {
        "id": "qJwK4HcZdY1_"
      },
      "source": [
        ""
      ]
    }
  ]
}